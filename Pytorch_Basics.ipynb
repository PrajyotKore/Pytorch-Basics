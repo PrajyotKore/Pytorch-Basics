{
  "nbformat": 4,
  "nbformat_minor": 0,
  "metadata": {
    "colab": {
      "provenance": []
    },
    "kernelspec": {
      "name": "python3",
      "display_name": "Python 3"
    },
    "language_info": {
      "name": "python"
    }
  },
  "cells": [
    {
      "cell_type": "markdown",
      "source": [
        "# Creating a Custom Dataset for your files\n",
        "A custom Dataset class must implement three functions: __init__, __len__, and __getitem__. Take a look at this implementation; the FashionMNIST images are stored in a directory img_dir, and their labels are stored separately in a CSV file annotations_file.\n",
        "\n",
        "In the next sections, we’ll break down what’s happening in each of these functions."
      ],
      "metadata": {
        "id": "saIoqQLuckhK"
      }
    },
    {
      "cell_type": "code",
      "execution_count": 1,
      "metadata": {
        "id": "H2idIAlRcJMr"
      },
      "outputs": [],
      "source": [
        "import os\n",
        "import torch\n",
        "import pandas as pd\n",
        "import torchvision\n",
        "from torchvision.io import read_image"
      ]
    },
    {
      "cell_type": "markdown",
      "source": [
        "# __init__\n",
        "The __init__ function is run once when instantiating the Dataset object. We initialize the directory containing the images, the annotations file, and both transforms (covered in more detail in the next section).\n",
        "\n",
        "The labels.csv file looks like:\n",
        "\n",
        "tshirt1.jpg, 0\n",
        "tshirt2.jpg, 0\n",
        "......\n",
        "ankleboot999.jpg, 9"
      ],
      "metadata": {
        "id": "Uxn5OSfAc_Og"
      }
    },
    {
      "cell_type": "code",
      "source": [
        "class CustomImageDataset:\n",
        "  def __init__(self, annotation_file , image_dir, transform=None, target_transform=None):\n",
        "    self.img_labels = pd.read_csv(annotation_file)\n",
        "    self.img_dir = image_dir\n",
        "    self.transforms = transform\n",
        "    self.target_transform = target_transform\n",
        "\n",
        "  def len(self):\n",
        "    return len(self.img_labels)\n",
        "\n",
        "  def __getitem__(self, idx):\n",
        "    img_path = os.path.join(self.img_dir, self.img_labels.iloc(idx, 0))\n",
        "    image = read_image(img_path)\n",
        "    label =  self.img_labels.iloc(idx,1)\n",
        "    if self.transforms:\n",
        "      image = self.transforms(image)\n",
        "    if self.target_transforms:\n",
        "      label = self.target_transform(label)\n",
        "    return image, label"
      ],
      "metadata": {
        "id": "VMahja1sc62A"
      },
      "execution_count": 2,
      "outputs": []
    },
    {
      "cell_type": "markdown",
      "source": [
        "# Preparing your data for training with DataLoaders\n",
        "The Dataset retrieves our dataset’s features and labels one sample at a time. While training a model, we typically want to pass samples in “minibatches”, reshuffle the data at every epoch to reduce model overfitting, and use Python’s multiprocessing to speed up data retrieval.\n",
        "\n",
        "DataLoader is an iterable that abstracts this complexity for us in an easy API."
      ],
      "metadata": {
        "id": "ysSgN6nIfTwa"
      }
    },
    {
      "cell_type": "code",
      "source": [
        "from torch.utils.data import DataLoader\n",
        "\n",
        "train_dataloader = DataLoader(training_data, batch_size=64, shuffle=True)\n",
        "test_dataloader = DataLoader(test_data, batch_size=64, shuffle=True)"
      ],
      "metadata": {
        "colab": {
          "base_uri": "https://localhost:8080/",
          "height": 193
        },
        "id": "XZZNpUa2fTfg",
        "outputId": "5d78faa5-855a-4e40-9af6-955d0747b8f0"
      },
      "execution_count": 3,
      "outputs": [
        {
          "output_type": "error",
          "ename": "NameError",
          "evalue": "name 'training_data' is not defined",
          "traceback": [
            "\u001b[0;31m---------------------------------------------------------------------------\u001b[0m",
            "\u001b[0;31mNameError\u001b[0m                                 Traceback (most recent call last)",
            "\u001b[0;32m<ipython-input-3-11332317b96f>\u001b[0m in \u001b[0;36m<cell line: 3>\u001b[0;34m()\u001b[0m\n\u001b[1;32m      1\u001b[0m \u001b[0;32mfrom\u001b[0m \u001b[0mtorch\u001b[0m\u001b[0;34m.\u001b[0m\u001b[0mutils\u001b[0m\u001b[0;34m.\u001b[0m\u001b[0mdata\u001b[0m \u001b[0;32mimport\u001b[0m \u001b[0mDataLoader\u001b[0m\u001b[0;34m\u001b[0m\u001b[0;34m\u001b[0m\u001b[0m\n\u001b[1;32m      2\u001b[0m \u001b[0;34m\u001b[0m\u001b[0m\n\u001b[0;32m----> 3\u001b[0;31m \u001b[0mtrain_dataloader\u001b[0m \u001b[0;34m=\u001b[0m \u001b[0mDataLoader\u001b[0m\u001b[0;34m(\u001b[0m\u001b[0mtraining_data\u001b[0m\u001b[0;34m,\u001b[0m \u001b[0mbatch_size\u001b[0m\u001b[0;34m=\u001b[0m\u001b[0;36m64\u001b[0m\u001b[0;34m,\u001b[0m \u001b[0mshuffle\u001b[0m\u001b[0;34m=\u001b[0m\u001b[0;32mTrue\u001b[0m\u001b[0;34m)\u001b[0m\u001b[0;34m\u001b[0m\u001b[0;34m\u001b[0m\u001b[0m\n\u001b[0m\u001b[1;32m      4\u001b[0m \u001b[0mtest_dataloader\u001b[0m \u001b[0;34m=\u001b[0m \u001b[0mDataLoader\u001b[0m\u001b[0;34m(\u001b[0m\u001b[0mtest_data\u001b[0m\u001b[0;34m,\u001b[0m \u001b[0mbatch_size\u001b[0m\u001b[0;34m=\u001b[0m\u001b[0;36m64\u001b[0m\u001b[0;34m,\u001b[0m \u001b[0mshuffle\u001b[0m\u001b[0;34m=\u001b[0m\u001b[0;32mTrue\u001b[0m\u001b[0;34m)\u001b[0m\u001b[0;34m\u001b[0m\u001b[0;34m\u001b[0m\u001b[0m\n",
            "\u001b[0;31mNameError\u001b[0m: name 'training_data' is not defined"
          ]
        }
      ]
    },
    {
      "cell_type": "markdown",
      "source": [
        "# Build the Neural Network\n",
        "Neural networks comprise of layers/modules that perform operations on data. The torch.nn namespace provides all the building blocks you need to build your own neural network. Every module in PyTorch subclasses the nn.Module. A neural network is a module itself that consists of other modules (layers). This nested structure allows for building and managing complex architectures easily.\n",
        "\n",
        "In the following sections, we’ll build a neural network to classify images in the FashionMNIST dataset."
      ],
      "metadata": {
        "id": "L7KtzM-hf1W2"
      }
    },
    {
      "cell_type": "code",
      "source": [
        "import os\n",
        "import torch\n",
        "from torch import nn\n",
        "from torch.utils.data import DataLoader\n",
        "from torchvision import datasets, transforms"
      ],
      "metadata": {
        "id": "3X3ZojR2fQcC"
      },
      "execution_count": 3,
      "outputs": []
    },
    {
      "cell_type": "markdown",
      "source": [
        "# Get Device for Training\n",
        "We want to be able to train our model on a hardware accelerator like the GPU or MPS, if available. Let’s check to see if torch.cuda or torch.backends.mps are available, otherwise we use the CPU."
      ],
      "metadata": {
        "id": "CTq9dtAkgR50"
      }
    },
    {
      "cell_type": "code",
      "source": [
        "device = (\"cuda\" if torch.cuda.is_available() else \"cpu\")"
      ],
      "metadata": {
        "id": "R99OuL_qgNFh"
      },
      "execution_count": 5,
      "outputs": []
    },
    {
      "cell_type": "code",
      "source": [
        "device"
      ],
      "metadata": {
        "colab": {
          "base_uri": "https://localhost:8080/",
          "height": 36
        },
        "id": "6p1Az20wgbqD",
        "outputId": "adae595d-ed5c-48d5-f8cc-c933ce943694"
      },
      "execution_count": 6,
      "outputs": [
        {
          "output_type": "execute_result",
          "data": {
            "text/plain": [
              "'cpu'"
            ],
            "application/vnd.google.colaboratory.intrinsic+json": {
              "type": "string"
            }
          },
          "metadata": {},
          "execution_count": 6
        }
      ]
    },
    {
      "cell_type": "markdown",
      "source": [
        "# Define the Class\n",
        "We define our neural network by subclassing nn.Module, and initialize the neural network layers in __init__. Every nn.Module subclass implements the operations on input data in the forward method."
      ],
      "metadata": {
        "id": "-tX_wKvkgnnG"
      }
    },
    {
      "cell_type": "markdown",
      "source": [],
      "metadata": {
        "id": "Ky3kmLlUlLoT"
      }
    },
    {
      "cell_type": "code",
      "source": [
        "class NeuralNetwork(nn.Module):   #Inherit from nn.Module: The NeuralNetwork class now inherits from torch.nn.Module. This gives it access to essential PyTorch functionalities, including to().\n",
        "  def __init__(self):\n",
        "    super().__init__()\n",
        "    self.flatten = nn.Flatten()\n",
        "    self.linear_relu_stack = nn.Sequential(\n",
        "        nn.Linear(28*28, 512),\n",
        "        nn.ReLU(),\n",
        "        nn.Linear(512,512),\n",
        "        nn.ReLU(),\n",
        "        nn.Linear(512,10),\n",
        "        nn.ReLU()\n",
        "    )\n",
        "  def forward(self,x):\n",
        "    x = self.flatten(x)\n",
        "    logits = self.linear_relu_stack(x)\n",
        "    return logits"
      ],
      "metadata": {
        "id": "1a4lyVuWghAj"
      },
      "execution_count": 23,
      "outputs": []
    },
    {
      "cell_type": "code",
      "source": [
        "model = NeuralNetwork()\n",
        "model.to(device)\n",
        "print(model)"
      ],
      "metadata": {
        "colab": {
          "base_uri": "https://localhost:8080/"
        },
        "id": "NnaGExaDj43u",
        "outputId": "0331954e-4231-48fa-ab14-f1d7eb40e449"
      },
      "execution_count": 24,
      "outputs": [
        {
          "output_type": "stream",
          "name": "stdout",
          "text": [
            "NeuralNetwork(\n",
            "  (flatten): Flatten(start_dim=1, end_dim=-1)\n",
            "  (linear_relu_stack): Sequential(\n",
            "    (0): Linear(in_features=784, out_features=512, bias=True)\n",
            "    (1): ReLU()\n",
            "    (2): Linear(in_features=512, out_features=512, bias=True)\n",
            "    (3): ReLU()\n",
            "    (4): Linear(in_features=512, out_features=10, bias=True)\n",
            "    (5): ReLU()\n",
            "  )\n",
            ")\n"
          ]
        }
      ]
    },
    {
      "cell_type": "code",
      "source": [
        "x = torch.rand(1, 28, 28, device=device)\n",
        "logits = model(x)\n",
        "pred_probab = nn.Softmax(dim=1)(logits)\n",
        "y_pred = pred_probab.argmax(1)\n",
        "print(f\"Predicted class: {y_pred}\")"
      ],
      "metadata": {
        "colab": {
          "base_uri": "https://localhost:8080/"
        },
        "id": "B9m8czKVj9AL",
        "outputId": "e3095123-a9cd-4255-9234-821afca5156a"
      },
      "execution_count": 25,
      "outputs": [
        {
          "output_type": "stream",
          "name": "stdout",
          "text": [
            "Predicted class: tensor([1])\n"
          ]
        }
      ]
    },
    {
      "cell_type": "markdown",
      "source": [
        "# Automatic Differentiation with torch.autograd\n",
        "When training neural networks, the most frequently used algorithm is back propagation. In this algorithm, parameters (model weights) are adjusted according to the gradient of the loss function with respect to the given parameter.\n",
        "\n",
        "To compute those gradients, PyTorch has a built-in differentiation engine called torch.autograd. It supports automatic computation of gradient for any computational graph.\n",
        "\n",
        "Consider the simplest one-layer neural network, with input x, parameters w and b, and some loss function. It can be defined in PyTorch in the following manner:\n",
        "\n",
        "import torch"
      ],
      "metadata": {
        "id": "3QAy_RqKAzuO"
      }
    },
    {
      "cell_type": "markdown",
      "source": [
        "Tensors, Functions and Computational graph\n",
        "This code defines the following computational graph:\n",
        "\n"
      ],
      "metadata": {
        "id": "WP3zeNb2HbEC"
      }
    },
    {
      "cell_type": "markdown",
      "source": [
        "![image.png](data:image/png;base64,iVBORw0KGgoAAAANSUhEUgAAA/AAAAFbCAYAAAByG2UKAAAgAElEQVR4Ae2dCxA1SVXfD1CwsUBYEAsBMYtGNAqKsgspQORRBsHK8jCxZFl0YwAtKkR8QYoQ3eXlA7cQKDVSBtREhCiRICKggkiQECG8AwTCRgJaJrgkGlFh0dz/fn32O998M/fOo2eme+Z3qm7NvTP9OP3rc7v7zHT3mJUtX2pm32Rm32NmP21mv21mbzOzD5rZx83sT83sb9JRv3Ve1xVO4RVP8ZUOAoGlCNzSzC4xs0eb2dPN7KVm9mYze7eZXWNmnzCzv0offdc5XVMYhVUcxVUaSguBwNwEsNm5CZP+3ASw4bkJk/5SBP6OmX3jYazwT83seYexwK8ffv8nM3ufmf2Bmf1JGEPou87pmsIorOIortJQWggEIACBWQnc08x+wMxeZWZ/lpxzOeg5PkpP6Sp95YNAIBcBDRwvNbOrzeztmew12rzSVNrKA4c+V63tOx1sdt/1v4XSY8NbqEXKcFMze4CZPc3MXmNm/2+GMYTSVNrKQ3kpTwQCEIDAJAK6Q/hiM7u2pdHSk8nXmtkLDnccn2hmDzaze5jZXczsDgen5nMPTytvnI76rfO6rnAKr3iKr3SiQ6Tvyk/5PmSS9kTeK4Fbmdnjzez1Lbb1aTN7p5m9zMyeYWaXm9m9zexuZnZnM7utmV2QPvquc7qmMAqrJ/CKqzSUVtN2lafylg4IBPoSwGb7kiJcqQSw4VJrBr2GELjQzP7J4WHSqw9O9XUtffz/MLPfSjNJv8/MHmZm9zKzrzyMW//2YWz7eWEMoe869xUpjMJ+v5n9q5SG0mqOIZSn8pYO0gWBAAQg0IvAxWb2HDP7aKNh+YCZ/YyZXWZmd+yVUv9ASk/pKn3lExs06SF9pBcCgWME1Dm+xMw+27ChNybH+4EHp/0mxxIYeE1pKU059coj2q10kC7SCYFAFwFstosM52shgA3XUlPoeYyAlsb9+0Y/rj5ds+w07f0fHcaotz+WwMhrSlNpK4+2WYLSSbohEIAABFoJfP3hSePLG42X1u38oJl9WWuM+U4qP+Wr/KNTJP2kJwKBSODb0v4K0VY0Je0KM7tNDDjzd+WlPJV31EV7P0hHBAJOAJt1EhxrJYAN11pz6O0E1Gf/CzP7WKPP/o3Ducea2Rd7wAWPmvX3uMMTe+kQxxHSUbouOaZZsNhkVTABzSS5++EG0z8wsyccZpj88GH/hn+bHlz9ZzN772GM+xEz+6PD/mb/N81O1QxVfdc5XVOY309xFFdpKC2lqbSVBzKQgKapx4ZCTw41vf2+A9OZK/h9Dg3W8xtPVaUv0+vnIl5PupqqHm/yfMjMnmJmFxVQBOkgXaSTd8LSVToj+yWAze637rdScmx4KzW533JoSaeeeMdlcG9Jm8vN8ZR9LGnpog3vpJuPI6SzdFcZEAjkJiC7+hYze3ZayvGHwfbcBuc6Ki8tH1He0gEb76jdLzk8Wf+lUDHaNf6Zh3U9t+sIv/Zp6SX9fHd7GZD0VzmQfRF4UKNDe0+6Y10qBd3Jl47e6KkzVhmQ/RDAZvdT11stKTa81ZrdT7ludtgk7lmhL1af/B/SjvClU9CeVNLVxxE6qiwqEwKBsQS+Kr0VTBuJ/5+GfbmtfTK9jUlvUdD+DZoJohlYWkKqNzLdNc1W+YK0/5M2YtRH+6LonGayKIzCKo7iKg2lpTT1pifl4fnFo3SSbnpzmXTdvTz1MEX9rxOsvzzchdTvW1RCRXpKX+mtSlY59BvZPgFtKqd9EvzP/f60sVwtJdcmeNLZ9VdZVCZkuwSw2e3W7V5Khg3vpaa3XU5NS49T5f+1mX1thUWWztLdxxEqk8qGQKAPgZunPcdelF5x6HbkR+079sq0t9MjF15GIkdfeWpfKenQ3ItNOuq1jNJd+6apLLsR7ab9jvDH//kDiC+qtPTSW/q70alcKh+yTQIPb7wN4aqKiynd3W71xgWVDdkeAWx2e3W6txJhw3ur8e2VV05BfCONdpC/3waKqTKoLD6WUBnXWLO/AZS7KII2G/3Fljcr/M/DstOfM7PHpDeIlQZDbzGTbtJRurq966g3NqhMm98sWnc1/P3t2unyoaXV0kh9VA7fuVPlUzmRbRH43vCnfUWailN7CTWdSGXxxkhlRLZDAJvdTl3utSTY8F5rfjvl1sD+E6mf/XByBLZTujMlkXOjsmksobJu3pnZWgXOWB7tZaY9xP44jDVlJ7+ZXmf4NTPmPVfS0lmvYlQZfPyso8qospayf1u28j85FPQXzOxG2VIuIyGVR+XyylR5kW0Q+MlQr1duo0jnlEJlcrtVWZH6CWCz9dfh3kuADe/dAuov/78Mfeu/M7Nb1l+kzhKobCqjjyVUdmS/BPQgs+ng/pfD0uN/vrFZGppxojKpbG77Oqrsm3iY+8JQML2abcui8nklqtxIvQQ+v/F2BG16sVVR2dxu9YYFlR2pjwA2W1+dofG5BLDhc3nwqz4Ce3Zm93TToj7LnF/j7zKzd4XxpDaA+7HDJnAXz5/16jmojCpr3IhPLMSkOrlTWPfzmbTgv7pCjFBYGxuovHKItCZIHJC6CNzLzD6Y6lDvj9SrBLcuKqPKKrtV2cUAqYcANovN1mOt7Zpiw9hwu2XUc1b9qG8Uq+nke9xfRmX2ZQNisYfxUz0WOo+mep96fN3bf0u7tl8wT3ZFp6oya8d6MfAHY2IjRlXIA8LuffoD37MKrfMpqVcVeCOuXQzFA6mDwKPCJhuaBlPSO1nnJqiy+rQnbc4hFkj5BLDZMx0lNlu+rXZpiA1jw122Uct5PWnzAfsbdv6KYb1eWQycR5VPIWsxvBX1fETYA0x1/R/N7NEr6lNa1mIhJv4/0H5pYlasaGdKV/bXzOzWxWo6r2Iqt15D4Cy2sOvovMTWT12DSK8vvWJtrxJflYcTX7YVYLNn6gebLdtOj2mHDWPDx+yjhmtxnydtZIWcISAWPqZib6jtWIVmS8m/87p9Hw98jlau+jgxcl5iV9wsV00X1zvypOQLjhZnPxfFQTzEhen05da7/kx6gqe6enW5ai6mmRiIhZgU19AsRqHsjLDZc+sHmz2XRw2/sOFzawkbPpdHDb/iHjK8D/38GhMTjSX02fJeQueXfJtn4muIP3l4u9j3bbOYs5RKb1YRM/8/FPU66t9Jir1qlqLXm6h4qMLEBymPgDZO8jXve37y3qwZf6opNmxs16Sz7m9stp0/NtvOpcSz2HB7rWDD7VxKPPvgMBjnCXN3DcUZCmKG1EdAS6HfHOz9x83swvqKsbrGYiZ27sSL6erLzPWSeyn0Xir1PANRhYmL+IgTUhYB7byuutH6b+RcAr4mXoyQcghgs911gc12synpCjbcXRvYcDebUq58dXiadnUpShWshxhpnKUnkGKH1EPgqanuVH//1cz+fj2qF6upGIqlmOojxqvIDyUF/tzM9JJ75HwC4iI+qijxQsog4O8b1g7se9qwri99MfHd6XlPfF9q84bDZo/zxWaP8ynhKjZ8vBaw4eN81r76BWb2gTSe+8W1lakof7HSGFjsxBApm4BeifiKVGeqt+eZ2Y3LVrkq7cQy7hMh1mK+mHx7qNyid9dbjEh3RuKjP4E+4oasS0DrUbw+eNVJd12IjXMSM2Q9AthsP/bYbD9Oa4TChvtRx4b7cVo61I3Sckj1ib+1dOYbyE/MxE5LSsUSKZOAHjq+J9WVXoN2aZlqbkIrsfXX8In5Ig/C447zDOz72VEcvLAzfT9mc4TSu0rdKWVjldOE40Y9e3y37WlC84fAZocxxmaH8VoiNDY8jDI2PIzXEqFflsYOGmjfdokMN5aHmLljKJZIeQT+oZl9Ktn5m8zszuWpuDmNxFis5ZeIvepgNtGj/w+nzHhtxjDMPmVC/JiOMoxdjtDqQK5NtntljgR3koZYqXEROwYuy1Y6NjuONzY7jtscsbDhcVSx4XHc5ojlO3D/bzP7yjky2EmaYieGGk8UtRP3TvgfK2Z8yPjiYwG5NgsBMfeHi7M9GP+RlMnvzlKE7ScqbqokcUSWJeC7/Gq9CTKMgK+HEkNkOQLY7HjW2Ox4djljYsPjaWLD49nlinlJGFh/Q65Ed5yOGLqjIrbI+gSi8/609dXZrQZi7/+N7E78xSHxr9st4mkFFzevIPFEliHwoMD9rstkualcxMztViyR+Qlgs9MYY7PT+OWIjQ1Po4gNT+OXI7a/JlkbeSF5CIilxhO8YjkPzympROf9n01JiLhZCKgOfKz9fVlSTIm8LiVMQzaN6k8kjuKJLEPgLYk507bG8/ZphGKJzE8Am53OGJudznBKCtjwFHpn4mLD0xmOTeH707hByx5vNjYR4p1HQCx9Ka4YI+sQkIPoziLO+zp10JbrE0O9ZHHiH5US/LiZ3bwtR871JiB+H0s8xRWZl8DjE+v3z5vNLlIXQzX4YorMRwCbzccWm83HckhK2PAQWsfDYsPH+cxx9XaHdzR/OvV3j5wjg52nKaYaS4ixWCPLEvjHib/qQA4jUhaB6MR/x1TV3poq+wlTEyL+9QTEUX8ccUXmJfC+xPryebPZRepiKLsVU2Q+AthsPrbYbD6WQ1LChofQOh4WGz7OZ46rz0l93a/MkThpXk9AbDWeEGtkOQJxKe93L5ctOQ0koLrR/0Of0cvWvzklcM3AzAl+nIB4qmLEF5mHgL+OR68vQfIQ8FfBiC2SnwA2m58pNpuf6bEUseFjdMZdw4bHcRsT605h4Pz3xiRAnF4ExNYdFDFH5ifwBWb2kcT9BfNnRw4TCaiO9B9RnanuBou/o447NYPRHY3gd1fEF5mHwNuS8T92nuR3merjElOxRfITwGbzM8Vm8zM9liI2fIzOuGvY8DhuY2L5JmsvGROZOIMIiLEcFPbWGoRtdODXJt6vGZ0CEZcmoLrSf0R1N0j8lQ9a+47kJyCuqhheT5Kf7cMS2w/lT3r3KYqp7FaMkXwEsNl8LJspYbNNIvP8xobn4apUseH52HrKWo+tvk2fr/WTHGcjIMbOm7Xws2G+PuFnJdb/nX0H5gWdOXX9L1Rn+p+oDnvLi1KkK3vHIOAQAuKqShFnJC8Bv7P7lLzJkpqZianslicUec0Bm83LM6aGzUYa833Hhudjiw3Px9ZT9p3nX+4nOM5OQKw1nmBH+vlQx+UKD5gvG1KeiYDqTP8RfXot67nAzD6VInz5TErtPVlxVYWIs3gjeQjcysw+m9helCdJUgkExFR2K8ZijUwngM1OZ3gsBWz2GJ0817DhPBy7UsGGu8jkO/+u1Lc9Il+SpHSCgFhrPCH2yDwEfCn01fMkT6oLEFDd6X/Sa9n1FSnwGxZQbM9ZiK8qRbyRPAT8FUas88nDsy0VX5fDK+Xa6Aw/h80OZzY0BjY7lNiw8NjwMF5jQmPDY6j1i3P/NBb7aL/ghMpIQMw1DlYdIHkJ+MydD5rZTfImTWoLElDdqQ71P1GdHhU6iqN4sl1k0JMN5Q0JvZ6bIjewmOuL3+ATa2Q6AWx2OsNTKWCzpwhNu44NT+PXJzY23IfSuDA/m8YNg9aZjsuKWA0Cvj5bdYDkI3DHZNNy+tizKB/XtVLyPWZUn6rbVvmcUOlf2BqCk7kIxFeWiDsyjcAtg+3eZlpSxD5CQGzViOgj5sh4AtjseHZDYmKzQ2gNC4sND+M1NjQ2PJbc6Xh/mPqzrzgdlBCZCYi5xhKqAyQfgR9PXF+aL0lSWpmA6lL/led06fGQFOD3ugJwPisBcVaFiDsyjcClieUbpyWzaOyvTjrLBr5z0ZynZSbG0lnMkfEEarTZ8aVdNyY2Ow9/bHgerm2pYsNtVKaduzj1ZdrtGVmHgO+0rbpAphPQ7uXXJbu+1/TkSKEQAqpLjbtVt61vbvjRFODZhSi8dTV8+pC4I9MI+EYPT5+WzKKxowP/5EVznpaZGKshYWOUaRxrtNlpJV4vNjY7D3tseB6ubaliw21Upp3zdcIvnJYMsScQEHuNJ06u752Qx56i/nDi+St7KvROyqo61X9FdXyevDVd5P3k56GZ5YQ4qzLEHZlG4O2J5QOnJTNrbDns923koPrXJ57/YjN7aCNcST/FWDqLOTKeQA02O750ZcXEZuepD2x4Hq5tqWLDbVSmnXtd6su+ZVoys8T+VjP7KTP7cNLRxwrap0oPf46NEfzhkMfpc4xjkFkK1JGo2Es/1QUyjcCtDzdC/iLxvM+0pIhdIAHVqf4rqmPV9Q1yi3RBj+dvesNZvsxJQJx9qov4I+MI+DrMTxe+26Z3xOpcXbxj9c5TnfK16b8oR75E0a6YYi3dWQc/roZqsdlxpSsvFjabv06w4fxMj6WIDR+jM+7aZ1I/9nnjos8SS2MAHyv4+KDrqHA+dojK+GbUXfHazq+1jE/spY/qAplG4HGJ5a9PS4bYBRNQ3er/orq+Qe6RTvJOxhuQLPLF3z8q/sg4Apck233nuOiLxFInGzvN3zczOeg66ryezjfvmpc8rV6spbfYI8MJ1GCzw0tVdgxsNm/9YMN5efZJDRvuQ6lfmL+b+rCS1r83xwA+ZpBD7h8/F4/NEkcHXt81ljj1WfMmhq+DV50g4wl4vX/H+CSyxvTxrR5KlfpAKmuBF0hMdav/vur6BrksnfzlG87wZQkC4q3KEH9kHIFHJ4YvGxd9sVhy4r2BVZ2rUfM77d7Q6bzOafpcySLW0lXskeEEarHZ4SUrNwY2m7dusOG8PPukhg33odQvzCNSH/aqfsFnD6Un4OpT/XNsHKCn9Jpe72GbysVxRskPAlxv1YHKojpBxhG4Q7CHW41LInsst08d22aKZM9wBwmqbp2r6vx6uSqdfKaf4LgIAfFWZYj/3uW5Zqb33Q4V39xHxxpEdyJj5+t/RnW6tTRyz0h2Wwvz0uyiNpstjd8YfbDZMdS642DD3WzmuoIN5yP71NSHdb6WKV9WJ1OKG9pqPKAb+n2eiGu8oLFEU2pz4FUHKrfqBBlH4ImJ4cvHRZ8llo9tdaxlbDsLiMyJqo7FVHV+vfg75h7jJzguQkC8VRG8r9HsDYnFOwY68m67ly9SY9MzcQfe17p7I1eTAy/W2O14W6jNZr2kGmjqic5a6yVdjzFHbHYMte44tdpwd4nKv4IN56ujf5P6sBKmG0eHW+OCPs77MRIxvRqewPu0YNUJMo6Ab8hY0mxeH9vqiAM/rl7bYvmM+Rs2fnxzasxK3rkwPrXUHcpjEtcSxU3DjsVZ45rvKij+exd34P1P39eRd9u9d+EA1YD5oFdlrHkKvVirDNjtOKOrxWabpYsDw+a10n9js3lrqBYbbk5N9v6l7Vj60iVsOJ8NvzH1YffLl+SolJpP33PYYGyna3DgVQf6P6pOkHEE/iQx/MJx0WeJFdtYHPh8iFXHYqs6v17enU58lZ8o8Nhs6LqeAjXDlbx5gnirIsR/79J04P3Pf8qRd9u9W8EA1Xh5eXTUDSjZpa99l83GG1QKU3LHK9bSEbsdZ3Q12GxbyeLAsO16yeew2by1U4sNqx2Nbe+x7yW3uao9bDifDWtcIVu4e74kR6UUHzbppn4Oie106Tat8qoOVBeqE2Q4gbskfh8dHnXWGLGtxYHPi1p1Lb6qe7sm/bhz3jyyp9Zs7NqmGtXUeIm3KkH89y5dDrw3Al2OfC226xvWxRkhXjZv3Gp4jZzsFLud9m+txWabpYxta/Na6b+xWbOx+4y01W0tNqybo3Jiuj7eBuuY4+lnG6tc57DhsySn2rLvfP4lZ5Nc5ZvfxJf9aYZeDontdA0OvOpA5S/pjQA56mFIGlPs+VGJ368OyXCBsLFt9THuAtnuIgvVtfhev2TiE+nHbQsvuhx2d4SkfHMDjzhdTuFKF/FWOT6VjtHg+X6GTZND05GvxXY1kJSDHsXLFhs3PZlvhotxSvjudiv2e5axnW4tNtus2zgwbF4r/Tc2O36fkba6rdWGY1nieOHUsrwYb63v2PBZ8n7DvzkeOBvi+Lf/lcZcn3882OxXfQygYy5nO7bTudKcE4TqQOVXnexVptjz1Ynf0wqDF207jnELU7NKdVTX4qu6t79KPy6ooChybtoMQ8593BisBoMRb5XlukaZYvn4fm59Ow/vuGuy3fj3iks9auhko+5ut2K/Zxnb6dZqs3FgWFu9Y7NnHfhmGzqmLmu1YS9rzeOFvbe7qkNve8fa8l+mMdffcoNY4aib9a6/jrnGrLGd1neNL7o+XUtRl8ShOlD5VSd7lSn2/MrE79LC4A21bc2A0iyU+JBWaciGZad9l0N7OtEf9DTaZm07NqWvGbJxVox00YPiXP9Nz2vqUXUtNqr7Gxz4m01NdaH4cTMwv3Me1xA3n8wvpNbgbHxQiQN/bkcW//invn82GXIttutGEh34EjpR16vP0e127wPJsZ2uOz+12WwcGPaxk5LCYLPnOz3etvrN0CH1VasNexnjGKK28cLe213VYbPtHWrL7sCv2QbLKXC9dczlJMR2Oqbf9d3/E2sdceCn2fObkh193VoV2JFvtLdjtq2xcHSaY7z4XQ75sWVOcs5PpaPrbU680o15tX0/lncHgtlOq66lo+refDpcW8Fm02BCwrpTEu+uROdd52sph0+JYwr96T9P8w+lNZhPSjsx6lotdT7B7IuJ6na79yn0YweRJbe3+h91Pa2Jd8a7wpS6/AOb7R4kets6xJEv2YZPNZTRcapxvLD3dlf129X29rVln0KvdmEtiXYovY85OUN0HOLAy/7XFqbQT7Pn9yZn7q5rV2Qjf/8vHrNtOe/Rl1NY3Vz18YW+N693OdLxpqziyC9UOnqqHscuzf9ZfJim/OXkx/y9HPpflSKqa+mlur9hE7uLStGuhx5x/ZoD1rGrcnskuXgQ35Tmkz3u/sQy7vm7O+4XptryzZRqst3FDS1zhm63Yr9nGTuILNlm1XFNaV9K6uSibf7ExHJNYVJb3D6OfMk2HOu97XsczDFemPZ/L922u2zZN7HrOy23zY6mnlvCgVd7Xro8j7a5d5/bZs8fT/zuUFhFx7ah6TS7qrEtluPc9n/UQ4Xmk/VmOP32/OS8tz3Qkw7Krxk3PgBu+78oLd0EKGmmlupa5VXdX/86KP0o+TVyXuHxGCtf+quSaxJeI3e2tk45Qxow6om7O+4es5bXGbm+Wzj664y8weR4tvNoY9HsdEu22eYeI23lOXZOd8FLlNhJH9Ofa2dtuWm3sV5LtuGoZ/N7vEFV6s2mps7+29vdPw6DVez1rL0eY9G0Zf1W+LVfIxd1zrWULj6Bb3NI3J5KOf409nyD8xnt4dj3aM8+g/dzSqnQpEfUv82B181TD9PldHuR5ERHf6/pTMebYfFNTx7/2DH+X9oc/2Nx17qmuhY71b29Of24z1rajMhXoJtTK04ZwYhsZo0i3qoE8d+7dDnwXY6783Lbvbef4Dg7AbH2hpdjfxbe6dZqs7Gjm93IMmfws9js6P+sXlnTvHFaow3HpzRqtzR1sibxdtffAUzb27/tdVZuy29M7cH9VjaAOIYd6nh0qR7b6Roc+BfRNk9qm/8i8dM+LyWJ/+d0bHPg41P1PnbadPhjWaMDP/RBbvy/lLoEMJZV389x4H3twGOaoQr+7TrLOGIjWOoToDaU4i39a9K5rRw5zjUd+FOOu+fpdnC5n+A4OwGxjo0z34fx+FjiV5vNxo5udiPLnMHLsdnB/9ljbXCN7W603z4DxswmODk5b3ffgy1PtuV/kxh+x+RamZZAtEk9YcwhMc0a7PwV2PMke/Yp9LfPYTwZ04jjwqYDrwew8Xqfm6nHbsA209MT+r5P03XjzHWRL9nUNSOSbEmdM4X+qlSAZ2ZLft6E4t0WNXrNaZ81VIAIibcMR/z3Lu7AHxs0tjF6emL4jLaLnJuFgDP3Ro/j2Q7gGAu37R+r1GbjwHAWw5ox0d9JzI/VD9fO2LHbafOpe6webwNqaXfjGEFjhr6Du1jmtb87c2y5X3ur/3OXLT81tQfPWblSm3s55Ri7xna6BgfeZ/PQ/p626zZ79k3svmJlW25mH+uzadfRh1O4vnIsTdl6vC5nXM55c817My/1BfEhsNLQf6jk/VHO2cTuslTwX26WrMDfgh3XQviUh7jGsZYOWrxlLOK/d3lxxxr3U1wenRi+7FRArmcjINaxoeT7cR7NTrdWm40Dw2zGtFBCbrNiv1fxm6Rd/9emnR7jVJMNNwdoPmY4Vr4Sr2HDZ2tlqi0/IvVhrzqb5CrfmrY5dPpvm9Kxna7BgVcdqE1SnexVptizv0au6SSvzTL2M03dxjrw0fdrpqnyNp1410H/ibbwzkgzAOKUfo8nx15p6n9akpzzGrl7pD/Qu0rSsEOXON1BleLSbAhraLjEW4Yi/sg4Apckhu8cF51YIwiItexW7PcsYzvdWm02Dgxrq3dstvtVRUMcd6/3mmy4a8zgZanliA2framutrevLf/d1IdpN/q1pel0NDfo6tJPTxa1lKX5hDG20zWMg/2NAKqTvcoUe35lsuVLC4PnTrCOTed5rAMfnexmml58/R/0H2o+VZcep/5beuoe8/AyKK0+0/xdh7mPqmvpprq3W6Qf1x2mHNx07pwnpC+ADlTHZsPVnI5UEvBmscVZvFUO8UfGEbhlYvhpM7vJuCSINYCAGIu17Fbs9yxjO91abTYODGuqd2z2TG017bWvs9NW17XYcBwzaBDWHDO0la3Ec9jwubWSw5Y/k/qxtZ+uKf+m06DfXTNFZNNxxmnTkYntdOkOvMqusYTqYs8yxZ6vTgyfVhhA1at/mjY61oH39HRsptksvmxLDnl8aq94ff4Tzf+Y4qn/WLut8DKqrqWT6v56eWs68Q1+osBjbOR0V71NYhg1ZKWKOKsCxB2ZRuDtieUDpyVD7B4ExFh2K+Z7lymdbo02608y1ZHVJNjsmdpye53iuMd6r8GGfbM9tVkaG2jw1vUpec0jNmcjGHMAACAASURBVBwt7+xskim2/LrUl33LuUmv8qvNiZfN6qNxrH/8XDw2b0pFB17fu+w9nl/rYZfYqyyqiz3LlLbZl0DrDQslSbTRprMtm43XmzbcVo4xcTydeMNryPhF/wuFd11zverR9Rp7VF1Lp0d5Aj+aTnQ5xh5urWN8un7sTkjzzk4pwJvcnp14izsyjYDfgdQmP8i8BHwjpRvu/M2bXdGpT+l0sdnlqhabPcN67D4jXTVVgw1HZ8YHYceOXWVd+zw2fG4N5LDlp6Qx2AvPTXq1X3Lio6NxzE51TU8W257SD7V5pSVnfg0Re+WvutizTLHnuySGer1kSRLtt+nAS8/oGPe5eRp9QNn+ENF/K+ozJK4/uFjzf9LU118lqrq/Xh6SCvh7fqKwY5wG0dZoRXUjcN2BL1HEWQYh7sg0Ar4eRO92ReYl4O/PLW291bylbk99SqeLzbYzneMsNjsHVbMabDg+gY8DuLbvQweF81BtTxUbbucy5ezFaQxWwjr4WA49aZRDLUc8OjmyWZ3T+PbYGDiOf9vsvO3cWg+6fP276gIZT+BPki1/4fgksseMdtbmwMebVWp7j01P17XoA46x16jPkMLqv+hx17rRFfVVHUsf1fkN4i+G14U73XCWL3MQ8AoQa3FHphHw9ZjieZtpSRH7CAGxFWN99r7+/QimXpew2V6YJgfCZicj7EwAG+5Ek/UCNpwV5zmJ/WHqz0p7Bdc5Sm70h5hrLKE6QKYR8OUgJb3RyseKOrY58M0p8Vri1ObEK1xcGt3m7OtGrW5udS0FiU640nLxKfK6IdCVd7xxcOzGmac599GXTJy37MSn3jx+bg12nr74yqjFG8lD4PWJ6RV5kiOVFgJiK7sVa2Q6AWx2OsNTKWCzpwhNu44NT+PXJzY23IfSuDA/m/o0PbVGliXgMwVUB8g0Ak9MdvzyaclkjX3KgVdmmjofw2nGiZxxOdz6NGdQ6Xqbk+6+q9KSgy7bUnwdo/Ov69EJj0uu2/KOM2Ci458V1MDEVMcqh+r8HPGOQms7kfkI+NpZ8UbyEOCmSB6Ox1LxRpIbfMco9b+GzfZnNTYkNjuWXL942HA/TlNCYcNT6B2Pe/80GC5t/fBxrbdx1dfxqg6QaQTuEBzhW01LKlvs6Ji3PYH3jOTER0c5xovf5UC3Oe9KJ66Pj3Ga35tr7ZtT85vh/bfybntC72VY6qi6dZ1U5+fIBYe7Fp9KAb78nCv8yEVAXFUB4izeSB4CMuzPJrYX5UmSVAIBMZXdinEpHURQr8qv2Oy81YbNzstXqWPD8zLGhuflq9Tflfq2R8yfFTkkAmKt8YTYI3kI+I2+78iT3ORU/Mm3nHNNgz8mco7lhHsZ3EnV9HU9hW863m1pyblve+IuPXS+SwflrfSVT7yRoO99827TZ45zqluxEadWeVEKcGXrVU5OJSCuqgBxRvISeEliu/cdTfNSPZOa79grxkg+AthsPpbNlLDZJpF5fmPD83BVqtjwfGw95e9P44aSph+7bls9+jRgsUfyEHhcsuNfz5McqRRIQHUr/1F13Sr+fvKPt17l5FQC4qoKEGckL4GHJbYfypssqZmZmMpuxRjJRwCbzceymRI22yQyz29seB6uShUbno+tp3y71Lepf/taP8lxNgJiLNb6iD2Sh8CtDzf8/iJxvU+eJEmlIAKqU/1nVMeq6055Uwr43Z0huDCGgHiqAsQXmYfA2xLjzjtU82S76VQfm5iKLZKfADabnyk2m5/psRSx4WN0xl3DhsdxGxPreamPY4bZGHrD4viMHTFH8hL44WTHv5I3WVIrgIDqVP6j6viofHMKeM3RUFwcSkA8VQHii8xD4NsS4/fMk/wuUxVL2a3YIvkJYLP5mWKz+ZkeSxEbPkZn3DVseBy3MbH06mT1cfr8vTEJEKcXAbF1zryuuheyQYE0o+G6xPheg2ISuGQCqkv9b1S3vWatvDVFeELJpapIN3FUBYgrMi+B9yXWl8+bzS5SF0PZrZgi8xHAZvOxxWbzsRySEjY8hNbxsNjwcT5zXH1O6ut4ejkH3TNp+lNEsUbmIeB2rA3YkG0QUF1qHP7jfYvzqBThY2Z2876RCNdKQPx87bu4IvMS8FcbvX/ebHaRuhiq4eDVcfNWNzabjy82m4/lkJSw4SG0jofFho/zmeOqnmx9OvV3j5wjg52nKaYaS4hxr6eIO+c1tvh3TJzFmj2LxlIsJ57vMaP6VN32ltclQ/iJ3jEI2EbA11eJJ7IMgbck271qmew2mYvYqdEQS2R+AtjsdMbY7HSGU1LAhqfQOxMXG57OcGwKviO9Xl91s7GJEO88AmIpphpPsPP8eXiyn/C3V3zQzG6SPXUSXIqA6k51qP+N6nSQXJwiKvLXDYpJYCcgbuKnj3giyxB4UOB+12Wy3FQuYuZ2K5bI/ASw2WmMsdlp/HLExoanUcSGp/HLEft3Ut/HJms5aJ5Jwx9iiS2yDAHfjPzqZbIjlxkIqO40Dh+98fmPpAR+dwbl9pCkuKkCxBFZlsDPJPavWDbbTeQmZrJbMUSWI4DNjmeNzY5nlzMmNjyeJjY8nl2umJekvk/9H6/7nU7VX00tnmKLLEMgbhj4gGWyJJeMBFRn+s/oM3pjzRuHqS/Pz6jcHpISL8HX1CFxRJYlcFszuzbVwZXLZl11bmIluxU7MUSWI4DNjmONzY7jNkcsbHgcVWx4HLc5Yvkyhv9tZl85RwY7SVPsxFDjCTFFliXwrMT+v7PvwLLgJ+amPSJUZ/rfqA4nyf1SQkrseyeltJ/I4iRe+ogfsg6Bh4d64DVop+vAXwcluxU7ZHkC2Oww5tjsMF5LhMaGh1HGhofxWiL0y9LYQa/z40b2cOJi5q9CFEtkHQKvTXb8mnWyJ9cRBFRXGoOr7rLItwdH6BFZUtxuIuLjzru4IesSiDdT7rOuKkXnLjZut9yoW7eqsNl+/LHZfpzWCIUN96OODffjtHSoG5mZr4f/raUz30B+YqbxhBiKJbIOgS8ws4+kunjBOiqQ6wACqiP9b1Rnqrts8kMp4T83s6/Jluq2EhIX8VEFiBdSBoGfDH+K25ehUlFaiIk38mKFrE8Amz1eB9jscT4lXMWGj9cCNnycz9pXNYD+QBo7/OLaylSUv1hpDCx2WZ2QihiUpGrcTPu7S1IMXc4hoLrR/0afWTaO/7mU+HvN7MJzsuaHeIiL4IsTUhaB30h185tlqVWENmIiuxUjpBwC2Gx3XWCz3WxKuoINd9cGNtzNppQrX21mn0z9Izt6n64V3zlbzMQOKYPAdyQb1jjviWWohBaBgOpEdaPPPw7ns3/1aUWvyp5y3QmKh+Dzqowy6/HzwzsV2V39bB35rtF636QYIeUQwGbb6wKbbedS4llsuL1WsOF2LiWefXAYXD+5RAUL0Uls3AkRM6QsAt8X6gcnvpy6ic676mhWudPhDsEfJENgTcUZ1L5uQVzEBymTwL3M7Lpku68uU8VFtRIDdbhiIjZIeQSw2XPrBJs9l0cNv7Dhc2sJGz6XRw2/4kaDj6tB4YV1FBN33sUKKZNAdOL/WZkq7kor1YH/bxbbeyruTP9KM7v1rpCfLazK/WuhAthx/iybUr89KtTXnp/E+xMgNR5igpRLAJs9UzfYbLk2ekozbBgbPmUjpV+PT5h5rfLZ2vJXJmsswQyFs1xK/RY3GH1aqUruQC+xX9x5d6560fxHkwLvN7NL/MJOjvc0M5VbFSAO4oHUQUCDSX8Sr3WIe9rYTmX1tZdigPOOzZZOAJstvYb66Ue7e2a8QLvbz15KDPVdYdD9BjP7khKVXEgnlV0M3AkRG6QOAtGJf3EdKm9KSzH3/81iT96bBDVd/PVJkc+Y2WXNABv9rXKqvKoAlZ9p8/VVtKZ1at236lA7sO/hFXMqo+82r7Izbb4uu8Vmsdm6LPZ8bbFhbPh8q6jrjPpRf3jzCTN7eF3qZ9FWZVbZNX4Siz2Mn7KAKyiRf3iYMfGpVIdvMrM7F6TbVlURY7HW/0bsVQerywuTQlLqB1fXZl4FVD6VUx+VG6mXgDZY8l2SVZ9bXrsV1/CpzGxYV6fdYrN11htanyWADZ9lwbc6CdzSzP5dGAv+yzqLMUprldXHwGIgFkidBPTq6/ek+vxDM7u0zmJUobXYirH+O2Je1OvY4/qgXzCzG1WBtL+SKo/K5Q0Xa336sys9pL+vWHV7ZenKjtBPZXK75T3vIwAWGAWbLbBSUGkQAWx4EC4CF0hgT87snm9aFGh62VRSvb4ijBG1p8GNs6VOQmL5vMBXrIu86fVIM/uzpOjbzeyhG6k7lUPlkROk8qmcyLYIxDVB+oPddQPFUxliw7zaWpsNsCyxCNhsibWCTkMIYMNDaBG2RAIPC9PJP2xmjylRyYk6aQafyqYxsKbOq8zItgg8NTiZ/9XM/v62irdKacRQLP0BmhgXLXc7/LnfERT+eTP7oqI17lZOekt/h69yqXzINgloXde1ob6vqriY0t3tVmXa4zq9iquvt+rYbG9UBCyUADZcaMWgVm8CXxz2g1K/+1uH31t4K5HK8NthLKE9n1RWZJsEtDn3m0N9/7iZXbjNos5aKjETOx+Di6nYViO60/DXqQB/aWb6fYtKtJee0ld6qwJUjuLvnFTCtnQ1b3vYlT6+rkobtFxeutJBP+nqG+zIdlUWlQnZLgFsdrt1u5eSYcN7qeltl1PvQ/9YGLj/azP72gqLLJ2luzsgKpPKhuyDQHwA9EkzY/Zm/3r/PjMTM//vVPsgUK+Z+KVQkD81s2ea2e36s1g0pPSSftLT4Uv/Pb8qZNEKKCizB5nZW4IdaNOJxxakX1MVda6+GYlsV7qrDMh+CGCz+6nrrZYUG95qze6nXDczs2eFsYP64/9gZt9YAQLpKF19/KujyqIyIfsioDeG/Fqwhffx2uGjBqDXpIqR/3fEbhNvenpIY7fvz5qZNkoo5dUT9zWzF5iZ9HL42qlbeiP7JvD4xp/yQ2b2FDO7qAAs0kG6SCe3WzUg0hnZLwFsdr91v5WSY8Nbqcn9luMuafOqT4f+WTfW/+lhZtztC8IiXaRTfGAhnbXxlsqA7JvAI8IeYBpn/sfDmPPR+0ZyTunFQkx8DK790sRsc/L1hzXkLw8FVYHlcOjVbF+2cGmVn/KNd0ykj/STnggEIgFt4vK2hu2+xsyuONyMuk0MOPN35aU8lbc3GDpKty2/Bm9mrJtMHpvdZLXuqlDY8K6qe5OFVZ/9LxpT69Vn6yGRZs6t8f5trWPXjML4Gl3ppKny0nXJMc0mK32DhXpCeA2abOW/mdn3mNkFGyzrqSKpzCq7GIiFPnpFnBhtXi42s+eY2UdD4QXgA2nN7mVmdsfMFJSe0tWaYOXj0HWUHtJHeiEQOEZAu6++pDFbQzb0xsOrN55uZg80s5scS2DgNaWlNJW28oh2qxkj0oUdYQdC3VlwbHZnFb7B4mLDG6zUHRZJT+v+faMfV5+up3Z64v2PZno6r6fsSlt5+BuV4lhCOvFUdYcGOaLI33V4wvyuYMP/x8x+bCf+k3xElVVl9v+PWIjJLkXT1F/c2P3bwVxjZq9N09ufeJji8+DDmox7pGk9dzCzz03vK9RRvzXdR9cVTuE1LV7xlY6n6UftzK18a1iXtEvDKLzQt0pT1bUrq9uUHzX97J1m9rLkeGtjuXunNxjobrs2bNIdPNmrvuuc3m6gMAr7jBRXacTpd56+8tQUU+mAQKAvgRw2K7vFZvsSJ1xuAthwbqKktwYB7VL9Tw47U7/azK5rGUP8j7ST/b8ys+9PN+m1nvYrDuPWv30Y235eGkOoPdZ3nfvKtOZWN7u0kdZPpzSUlo8d/Kg8lbd0YJfxNSyg/jz1Ou3fbNjWfzls/v3PN/amAo3PVSaVzf8/OqrsvFI82LG22f+Bw52cV4X3yUdgU77r/e1KV+lXtZ1/4MPXMgnc8vDnvvRwQ+nqjrvbU+xWcXXHXGkrD+WFQGAqAWx2KkHir00AG167Bsg/B4GbHmbXPeDgyD8tLY37fw1HYer4QfGVppbdKQ/lpTwRCOQgoD3EtKfZHzfsVg6ubj59TY5MFk5DOkv35g0KlVFlVZmREwS+1My+Ka010N1EvY9Sa30/eFg79PGwW7x2jddvndd1hVN4rVFQfKWDQGApAhpYXpKmpGnq+0vTuzXfnWaDfCLcdderCjVDRNf0rkiFVRxNZ1MaOOxL1dq+8+ljs5oN8leHDY9kv9jsvu2lxNL3sWHZLzZcYu2hUyTwd9LsUG0up2nvv374/Z/Snk1/cJhh+ifJjmXL+q7xr/ZzUhiFVRzF1QxTpYVAYAkCmv3xi2F86zef/udh4+efM7PHpNnSS+gyJA/N4JZu0lG6ut46araKyqSyIRCAwM4JaMqaL+vQ+yJL2NF+51VC8U8QkM2+A1s9QYnLEIAABJYlQNu8LG9yO03g5mnPsReZmW44RYdY37Xv2CvTwypNQ9emikuJ8lKeelAmHZp7sUk/6SzdtW+ayoJAAAIQuJ6AdpGPDZr2YkAgUDKBK5PNYqsl1xK6QQACeyNA27y3Gq+vvF+VZkRrGXPcAC6Og/UwSzNRNYNEez/obQh6C4k2cdZs1LsmR/8L0v5PWgaij/ZF0Tk55gqjsIqjuEpDaSlNpa08Yp7+XTpJN83alq4IBCAAgVYCepLpDYcfeQrfioqTBRBgxkgBlYAKEIAABBoEaJsbQPhZBQFt4PwtZvbstJmiXsHmY+G5j8pLGzgqb+kgXRAIQAACJwk8vKOh4snmSXQEWIkAM0ZWAk+2EIAABI4QoG0+AodLVRHQ2xTufti0+R+k96n/8GH/hn+bXp/8+2b23sNT9Y+Y2R8dnpT/3/SGJu3Lo+86p2sK859THMVVGno3u9JU2soDgQAEIDCKQNvTd7/jyFP4UUiJNDOBNpvFVmeGTvIQgAAEThCgbT4BiMsQgAAEIACBqQS6nr67A89T+KmEiZ+bQJfNYqu5SZMeBCAAgf4EaJv7syIkBCAAAQhAYDSBN3RMn3cHXkeebI7GS8QZCLQ94XF7xVZnAE6SEIAABHoQoG3uAYkgEIAABCAAgSkEuu6WuzPkx1+dkglxIZCRwCmb5Sl8RtgkBQEIQKAnAdrmnqAIBgEIQAACEJhCoM/Td3fitdkGAoG1CfSxWZ7Cr11L5A8BCOyNAG3z3mqc8kIAAhCAwOIETt0td8fdjzyFX7yKyLBBoK/NYqsNcPyEAAQgMCMB2uYZ4ZI0BCAAAQhAwAn0uVvuzrsfeQrv9DiuQWCIzWKra9QQeUIAAnskQNu8x1qnzBCAAAQgsCiB+/fYuM6d9njUBjUIBNYg0PcJj9srT+HXqCXyhAAE9kaAtnlvNU55IQABCEBgFQJXmJk2+9LnuenzyRanXtevNLMnhc+Fq2hMpnsnMOQJjzvxPIXfu9VQfghAYG4CtM1zEyZ9CEAAAhCAQAeBtk5YT+oRCKxNgBkja9cA+UMAAhA4nwBt8/lMOAMBCEAAAhBYjAAO/GKoyWggAWaMDARGcAhAAAILEKBtXgAyWUAAAhCAAAS6CODAd5HhfIkEsNcSawWdIACBvROgbd67BVB+CEAAAhBYjIA2/fK1w37U5jQIBEokwCCxxFpBJwhAYO8EaJv3bgGUHwIQgAAEFiOAA78YajLKQIBBYgaIJAEBCEAgMwHa5sxASQ4CEIAABCDQRQAHvosM50skgL2WWCvoBAEI7J0AbfPeLYDyQwACEIDAYgTodBdDTUYZCGCvGSCSBAQgAIHMBGibMwMlOQhAAAIQgEAXAb3z3de++1E7zCIQKJEAg8QSawWdIACBvROgbd67BVB+CEAAAhBYjAAO/GKoySgDAQaJGSCSBAQgAIHMBGibMwMlOQhAAAIQgEAXARz4LjKcL5EA9lpiraATBCCwdwK0zXu3AMoPAQhAAAKLEaDTXQw1GWUggL1mgEgSEIAABDIToG3ODJTkIAABCEAAAl0EntuyBv5JXYE5D4GVCTBIXLkCyB4CEIBACwHa5hYonIIABCAAAQjMQQAHfg6qpDkXAQaJc5ElXQhAAALjCdA2j2dHTAhAAAIQgMAgAjjwg3AReGUC2OvKFUD2EIAABFoI0Da3QOEUBCAAAQhAYA4CdLpzUCXNuQhgr3ORJV0IQAAC4wnQNo9nR0wIQAACEIDAIAJ0uoNwEXhlAtjryhVA9hCAAARaCNA2t0DhFAQgAAEIQGAOAle2bGKncwgESiTAILHEWkEnCEBg7wRom/duAZQfAhCAAAQWI4ADvxhqMspAgEFiBogkAQEIQCAzAdrmzEBJDgIQgAAEINBFAAe+iwznSySAvZZYK+gEAQjsnQBt894tgPJDAAIQgMBiBOh0F0NNRhkIYK8ZIJIEBCAAgcwEaJszAyU5CEAAAhCAQBcBOt0uMpwvkQD2WmKtoBMEILB3ArTNe7cAyg8BCEAAAosReFLLJnZay4ZAoEQCDBJLrBV0ggAE9k6AtnnvFkD5IQABCEBgMQI48IuhJqMMBBgkZoBIEhCAAAQyE6BtzgyU5CAAAQhAAAJdBHDgu8hwvkQC2GuJtYJOEIDA3gnQNu/dAig/BCAAAQgsRoBOdzHUZJSBAPaaASJJQAACEMhMgLY5M1CSgwAEIAABCHQRuKJlDfyLuwJzHgIrE2CQuHIFkD0EIACBFgK0zS1QOAUBCEAAAhCYgwAO/BxUSXMuAgwS5yJLuhCAAATGE6BtHs+OmBCAAAQgAIFBBHDgB+Ei8MoEsNeVK4DsIQABCLQQoG1ugcIpCEAAAhCAwBwE6HTnoEqacxHAXuciS7oQgAAExhOgbR7PjpgQgAAEIACBQQQe3rIG/lcHpUBgCCxHgEHicqzJCQIQgEBfArTNfUkRDgIQgAAEIDCRAA78RIBEX5QAg8RFcZMZBCAAgV4EaJt7YSIQBCAAAQiIwN9k+HQ9cb4wQ9pdO7pflCHtKztM4P4Z0taGNG3S5vAPrQN19G3SNgAYmrbK3iZiNTStZvi7tyVsZs/NkLbsoU1kP009hv5uS1fn3jAx7U92JWxm75iY9jUdaeewP5W7S4aybYavtS1RORAIQAACYwm0tc1d7eHYPIgHAQhAAAIbIdAcQI/53dXJ4MCfbyRtnfRQ5jjw5zvlOPDnMsGBP5eH/mNr3Aw8vwXgDAQgAIHzCbSNDbrGVufH5gwEIAABCOyKgDuPuyp0xsLS6WaESVKzE8BeZ0dMBhCAAAQGE6BtHoyMCBCAAAT2SwAHflrdt023PzbFeFpuxIbANAIMEqfxIzYEIACBOQjQNs9BlTQhAAEIbJQADvy0isWBn8aP2MsSYJC4LG9ygwAEINCHAG1zH0qEgQAEIACB6wngwE8zBBz4afyIvSwB7HVZ3uQGAQhAoA8B2uY+lAgDAQhAAALXE8CBn2YIdLrT+BF7WQLY67K8yQ0CEIBAHwK0zX0oEQYCEIAABK4ngAM/zRD0ajRn6Ee9AgyBQIkEGCTmrxUx1QeBAAQgMJYAbfNYcsSDAAQgsEMC7nTusOhZiowDnwUjiSxEgEFiftC0ofmZkiIE9kaAtnlvNU55IQABCEwgwOBzAjwzw4Gfxo/YyxLAXvPzpg3Nz5QUIbA3ArTNe6txygsBCEBgAgEGnxPg4cBPg0fsxQkwSMyPnDY0P1NShMDeCNA2763GKS8EIACBCQQYfE6A1+HAXzMtSWJDYDYCDBLzo6UNzc+UFCGwNwK0zXurccoLAQhAYAIBBp8T4JnZRS2b2OHAT2NK7PkIMEjMz5Y2ND9TUoTA3gjQNu+txikvBCAAgQkEGHxOgIcDPw0esRcn0DZI5IbTtGqgDZ3Gj9gQgED7fjq0zVgGBCAAAQi0EmDw2Yql90mewPdGRcACCGCv+SuBNjQ/U1KEwN4I0DbvrcYpLwQgAIEJBJ5kZvog4wjQ6Y7jRqx1CGCv+bnjwOdnSooQ2BsB2ua91TjlhQAEIACB1Qhc2LIG/pOraUPGEDhOgEHicT5jruLAj6FGHAhAIBKgbY40+A4BCEAAAhCYkQAO/IxwSTo7AQaJ2ZEaDnx+pqQIgb0RoG3eW41TXghAAAIQWI0ADvxq6Ml4BAHsdQS0E1Fw4E8A4jIEIHCSAG3zSUQEgAAEIAABCOQhQKebhyOpLEMAe83PGQc+P1NShMDeCNA2763GKS8EIAABCKxGgE53NfRkPIIA9joC2okoOPAnAHEZAhA4SYC2+SQiAkAAAhCAgBN4uJnpgxwncEszu8TMHm1mTzezl5rZm83s3S2b2GlAr/e36prCKKziKK7SUFoIBNYgwCAxP3Uc+PxMSRECWyTwpWb2TWb2PWb202b222b2NjP7oJn9UctY4rPpusIpvOIpvtJBIAABCEBgxwQYfLZXvpzsS83sajN7e0vH6tzGHpWm0lYeOPTtdcDZ/ARw4PMz9TYgf8qkCAEI1EzgXmb2ZDN7lZn9WeZxhNJTuj9gZsoHgQAEIACBHRFg8Hm2sm9lZo83s9e3dLSfPsxUeKeZvczMnmFml5vZvc3sbmZ2ZzO7rZldkD76rnO6pjAKqyfwiqs0lJZz96PyVN7SAYHAnATc5uJxzvy2nrZz3Ho5KR8EIHCawDea2YvN7NqWfl4z815rZi8wsyea2YPN7B5mdhczu0NLeLUtuq5wCq94iq90vN3xo/JTvg85rSIhIAABCECgdgLe+Ndejin6P+zQgb7EzDRdzXno+MbkeD/w4LTfZEoGjbhKS2nKqVceMU/pIF2kEwKBsQSOLfmQjenz1+mj7yz5GEva7El25jM+BWJCAAI1E7jYzJ5jZh9t9OcfMLOfMbPLzOyOPQr4ydQWqz32T1c0pad0lb7yieMI6SF9pBcCAQhAAAIbJOCN/gaLdrJI35bWlzkDHV9jZleY2W1Oxs4XQHkpT+UdddHaOOmIQOAUAZZ8nCLEicpluAAAIABJREFUdQhAAAJ5CXz9Yabdyxv99vsON0Z/0My+LG9WJ1NTfspX+cdxhPSTnggEIAABCGyIgDf0GyrSyaJoqnrs5D5kZk8xs4tOxpw/gHSQLtLJ60a6SmcEApEASz4iDb5DAAIQWIaApqn/RuijNYtJ09vvu0z2J3O5z+EhxPMbswqlL9PrT6IjAAQgAIE6CLiTWIe207R80GEt2VtCp/seM3vctCRnjf1YM5OOXkfSXWVA9k2AJR/7rn9KDwEIrEPgSw5P1n8p9Ml/ambPPOwQf7t11DmZq/SSftLTxxHSX+VAIAABCECgYgLeqFdchJOqa1M5rRPzsr4/bSx3MmIhAbQJnnR2/VUWlQnZFwGWfOyrviktBCBQDoGnpj1D1A//5WEzWv2+RTnqHdVEekpf6S39tf+JfiMQgAAEIFApAXcKK1X/pNp6x33cDfaqkzHKDSDdvb5UJpUN2T4Blnxsv44pIQQgUCYBvU3mHaHv/Xkz+6IyVT2plfSW/j6OULlUPgQCEIAABCoj4A15ZWr3Uvd7Q0f1CjO7a69YZQdSGVQWrzeVEdkmAZZ81FGvupHGzbQ66gotITCEwCPD+9vfbmYPHRK54LAqh8qjcYTeJ69yIhCAAAQgUBEBdwQrUrmXqj8ZnNwre8WoK5DK5HWnsiLbIcCSj7rq0v+HdWmNthCAwDECTw597C+Y2Y2OBa7wmsqjcnn7pfIiEIAABCBQCQFvvCtR96San9/YHXbLr2FT2bz+tMOsyo7UTYAlH/XVn/8H69McjSEAgTYCLwx9q17NtmVR+bwNU7kRCEAAAhCogIA33BWoelLFe5nZB1Nn9BEz06tUti4qo8qqelTZxQCpkwBLPuqsty21oXXWAFpDIA+BO5nZ61N/+hkzuyxPssWnonKqvGrLVH5xQCAAAQhAoGACWxl8PsrMrksd0G8edp2/fcHMc6umsqrMqksxEAukLgIs+airvqK2W2lDY5n4DoG9EXiAmX009aN668s9dwbgkvC2G3EQDwQCEIAABAolsIXBpxxWL4desbZXia/Kw4mvwwpY8lFHPR3T0tueY2G4BgEIlEvgfmEM8WtmdutyVZ1VM5X7lYGFuCAQgAAEIFAggdoHn5oy7k/eX10g36VVEgPVqZgwnX5p+sPyY8nHNmy09jZ0mNUSGgLbIqDp4n+Q+s0XbKtoo0sjDmrXxIXp9KMxEhECEIDAfARqHnzq6aWved/zk/emdfiTeLFhY7smnTJ+s+Tj7I2m2meL1NyGlvFvQAsIrEfgd5Kz+qr1VCgyZ/FQ2yY+CAQgAAEIFEbgCjPTp0bRzuvqYLT+GzmXgK+JFyOkLAIs+ThTH36jSf/hmp14HPiy/l9oA4G+BH4ujSHea2YX9o20k3DiIS5q38QJgQAEIAABCEwm4Jt+aQf2PW1Y1xecmPju9Lwnvi+1+cOx5ONcxltY8oEDf26d8gsCNRD4oeSc/rmZfU0NCq+go7iIj9o48UIgAAEIQAACownE123t4VVxY0GJjTsXYoasS4AlH+38/Ul8rUs+/D/WXjrOQgACpRH49tA3PqI05QrTR3y8jRM3BAIQgAAEIDCYwMNDZ/Jtg2PvL4IYeecrdsh6BFjy0c2+5iUf/v/qLh1XIACBUgjEHee5sd2vVuJDE3am78eMUBCAAAQgkAjc1syuTQ7plVDpTUCs5GSInRgiyxNgycdx5jUv+cCBP163XIVAKQRubGYfTv3h80tRqhI9xEttnfiJIwIBCEAAAhDoRcCn2r6iV2gCRQJips5XDJFlCcSnFyz56GZf65IPHPjuOuUKBEoi8COpH/zdkpSqSBdxU3snjggEIAABCKxIoJZd6B+UOg51HnddkVetWYuZOxpiiSxDgCUfwzjXuOTD/1fDSkpoCEBgSQIXhz7w65bMeEN5iZu3d+KJQAACEIDASgS8MV4p+97ZviV1HFf1jkHAJgGxU32LJTI/AZZ8jGNc25KPWtrQcbVBLAhsg8DrUv/3vG0UZ7VS/ETiKJ4IBCAAAQisRKCGwefjU4fx/pUYbSlbMVSdiykyLwGWfIznW9OSjxra0PE1QUwI1E/gUanf+7iZ3bz+4qxaAvH7WOIprggEIAABCKxAoIbB5/tSZ3H5Cny2lqUYqs7FFJmPAEs+prGtaclHLcuQptUIsSFQL4G3pn7vCfUWoSjNxVHjCHFFIAABCEBgBQKlO/C+JvY9K7DZapZiqXrnNXzz1TBLPqazZcnHdIakAIG9E/jm1N9ds3cQmcsvnhpHiC8CAQhAAAILEyjdgX9b6iQeuzCXLWf3uMRUbJH8BFjykY8pSz7ysSQlCOyRwJtSf/fdeyz8jGUWT40fxReBAAQgAIGFCZTswD8sdRAfWpjJHrITU9W9GCN5CbDkIx9PlnzkY0lKENgbgW9I/ZzWviP5CYirxhHijEAAAhCAwIIESnbgX5I6h6csyGMvWYmp6l6MkXwEWPKRj6WnxJIPJ8ERAhAYQuBFqZ/Tmy2Q/AT8jSHijEAAAhCAwIIESnXgb2Vmn02d70UL8thLVmKquhdjsUbyEGDJRx6OMRWWfEQafIcABPoQuMDMPpX6uS/vE4EwgwmIq8YR4izeCAQgAAEILESgVAfe1xG/ZiEOe8xGbFX/vFIuT+2z5CMPx7ZUSl7ywS70bTXGOQisS0D/S/Vvb1hXjc3nLr7iLN4IBCAAAQgsRKBUB/71dAqzW4APcMQamU6AJR/TGXalUPKSj1Lb0C6WnIfAHghwg3qZWuZhyzKcyQUCEIDAOQRKHHzeMjnv0u0252jLj5wExNbrX8yR8QRY8jGeXZ+YJS/58P9Qn3IQBgIQmJ/A54S+7Qvnz27XOdwpsBZ3BAIQgAAEFiBQ4uDz0tQhvHGB8u89CzGWDYg5Mp4ATyHGs+sbs9QnaiW2oX2ZEg4CWyTwkNSv/d4WC1dgmcRZ7aC4IxCAAAQgsACBEgefV6fO4OkLlH/vWYixbEDMkfEEWPIxnl3fmKUu+SixDe3LlHAQ2CKBH0392rO3WLgCy/SsxFvcEQhAAAIQWIBAiYPPt6fO4IELlH/vWYixbEDMkXEESl7y8cVmdm2q498fV7xiYpW65KPENrSYSkMRCKxA4K2pzeP95MvAF2e1g+KOQAACEIDAAgRKG3y6M/RpM7vJAuXfexZiLNayA9bBj7OGkpd83DfVbWn/83GkzUpc8rEVtmPrhHgQKInALVKbd52Z3bQkxTasiziLt9pC8UcgAAEIQGBmAqUNPi9JncA7Zy43yZ8lINayA7FHhhMoecnH1hz4Epd8lNaGDrdgYkBgOwTukfqzd22nSFWURLzVFoo/AgEIQAACMxO4v5npU4o8OnUCLytFoR3oIdbqeMUeGU6g5CUfW3PgS1zygQM//D9DDAjMReCy1J/98lwZkG4rAfFWWyj+CAQgAAEI7IyAP2FjA7vlKv4ZqeOF+XDmpS/52JoDX+KSDxz44f8bYkBgLgJXpf7smXNlQLqtBMRbbaH4IxCAAAQgsDMCL02dwOU7K/eaxRVrdbxijwwjUPqSj6058Kqd0pZ84MAP+88QGgJzEvAxxGPmzIS0zyMg3owjzsPCCQhAAAL7IPDm1Ancu4DifnXSRZ3SqR28Y1i9r/qYxJ3BtUP42iLWKqPYI8MIlL7kY4sOfGlLPnDgh/1nCA2BOQn4GOI+c2YyIe04Vjg1rvBsnhzGIt/pJws7ijfjiMIqBXUgAAEILEXg3akTuNtSGR7J5/NCp6mOSR1vl8QOVmHlpHfJt4Z0S3jqLdbSWeyRYQRKX/KxRQe+tCUf+u/og0AAAusT8DHEV62vSqsGGht4m6HjsXGFJ/DhEOehfrKwo3irPIwjCqsY1IEABCCwBIFrUidw5yUy65GHT8dTx3TszreeusdOWU56l/xUCHssza74uc+LtXQXe2QYAbePUpd8dDnwOi/d/R3xqn/9LnVwGGultCUf/r+POvIdAhBYh0BpY4g2CnG8oPHAMYlP7EuYsdelK+OILjKchwAEIDADgSsPaepTinwiOZO3LUQhOdg+QD82Nd7D+FHOUJdEp+nYk/qu+LnPi7X0FntkGAGfrlnCko82zZsOvGaV+E0Ht9Xm8dSAsi2fJc+VtuTD+S3JgLwgAIF2AqWNIdq0jLPwTjnlzwpjkJLbZsYRbTXNOQhAAAIzESht8PlXqbO6YKbyDk22Od1NDlBTmk6SmHZ1yvFuet/1b838cv8Wa+ks9sgwAj5ds4QlH22aN21TNuf/eTnyWvqhT5yiqesaNJYqpS35cJ6l8kIvCOyJQGljiDb2GkfEG/nHZj7FtlnteanCOKLUmkEvCEBgkwRKG3x653uzgmhHp6eto413yOPUuLbONq6V1/cShI53fC2UPl2z6cDr/66BY5ttxqUdClfC7JC2miltqmZpbWgbM85BYC8EShxDtLGP7W3Xk/V4w1+OfMnCOKLk2kE3CEBgcwRKG3z69Le2J91rwY8OeltH6w6+jnFqXJuDHh38PpvXLFFmpr6Np+z2WsqSj2ZJmg68nPcux1z/ufi0p9Sn8KXZ6/3NTB8EAhBYn4C3ySWNIdqo6GGAj7+6ZuzFsUep7bGXrbR22fXiCAEIQGCTBLwDKaVw/kTzolIUSrvEOqfmXXANEvyaOtg45V4OfZQYtplODLf099KeaC5d/in5+dMePX0oUZoO/KmbRnHAWJKNRrY86Yk0+A4BCEQCJY4hon7xe7xh2rbxbbx+qu2O6a7xnXHEGtTJEwIQ2C0Bdz5LAVDqmuKujjTeRffp9f5EXmzjU4AYtqS76aWtKS7FFvvo4Q58SUs+ot5NBz5ea/s+NHxbGnOfw4GfmzDpQ6BeAj6GKPU1cpFsvGHa3Pg2Tp9vPgyIaZTyndfIlVIT6AEBCOyCQGkOfKm7esf1avHVb7EDdoOJ69zjXfWYhjv7HmfNY2m7eq/JYmjepU/XHOqQxxkkahtKfOrDVM2hVkp4COyHgI8h7lNBkZvtbbzhH8cWccxRarHEW32G+CMQgAAEIDAzgdIceH/FVWnv1Y5Pz+Pr5PxpezwX75zHNfP+FL9rvdvMVd2ZfGnv1e5UtMALpU/XHOrAC7G3CToqfmnCVM3SagR9IFAOAR9DPKYclY5q4mMItbfxhr+PF3S+a9+SowkvfFG8pWtzJsHCapAdBCAAgX0QUIOrTyny9KTPM0pRKOjhrHTUnfK4pr25YZ2cdIVzZ73LqQ/Jr/bVmeuIDCPg0zVreY1cn9JFOy/RgWfJR59aJAwE9kngqtT3PrOS4uvpure57vzGBwY1TJ8XavFWOcQfgQAEIACBmQl4xzFzNr2Tf3TqBF7WO8ZyAf3Ovpipg407zjenGsfp8roWO+l4l3057btzEmuVSeyRYQR8uqaWIZQoQ5/AN6d0lvjkp7QlH1ceKl4fBAIQWJ/AZak/++X1VemlQXwQoH5YbW4cP5Q2XugqlHhLf/FHIAABCEBgZgJqcPUpRS5J+ryzFIWCHtFhVwfrnaw/ZQ9Bz3Hu5bxH5z+uc4tx1vou1rIBsUeGEfB6LW3Jh5diqAM/NLzns+SxtCUfpbWhS9YFeUGgNAL3SP3Zu0pT7Ig+3o+oLdF4wWfw6Xdp44WuYoi39BV/BAIQgAAEZiZQ2uDzlqkT+LSZ3WTmsg9NPt4p1/o0X6OmzrcpMWx893tb2GbcJX+LsVjLDsQeGUbAlx+UuORDJWk65KeeqMeNk+K+DsOozBvamZey5KO0NnRe+qQOgbIJ3CL1Z9eZ2U3LVvUG7eKUeW9PdCxtvHCDwo0v4ize0ln8EQhAAAIQmJmAdxYzZzMo+benjuCBg2ItEzhuOOPsdMe8TYaEbYu/xDkxVjnEHBlOoOQlHypN04GXTXY90dH5+OSny66HU8obo7QlH94O5C0lqUEAAmMJvDX1a98wNoEV4sW219uUWqbPi7N0FncEAhCAAAQWIOAdxQJZ9c7i6tQZlPKELSoup8aZ+bHrqWZ8ndypsDGPJb/700wxR4YTKHnJh0rTdOBlh5o50tyzQc57vOGkwWSXoz+cUt4YpS358P923lKSGgQgMJbAj6Z+WjOKahFfkuftidrgWuTZibe4IxCAAAQgsAAB7ywWyKp3FpemzuCNvWMsF1DOerxTfmyacTNsidPhxFg2IObIcAIlL/lQaaIDL/uLtqvfusmkQW48L3vQlM4SpcQlHyW2oSXWHTpBYCkCD0n92u8tlWGGfOKbatSmyKGvRcRZOos7AgEIQAACCxAocfDpTpF0u80CDPaahdh6/bP+fbwVlLzkIzrwctY1SPS9G7zum8eSp22WuOTD+Y23IGJCAAI5CXxO6NvulDPhGdNqLmFS212DfGFgLe4IBCAAAQgsQKDUwefrU6dwxQIM9pqF2Kr+xRoZT6DkJR9y2P3puq9p10BRznycMi+nXk98upaDjKeTN2aJSz5KbUPzkic1CNRFwDePfXwlase33Kg9rkXEV23gsdmItZQFPSEAAQhUQ+DuZqZPaUKnMH+N1DbAmZ/IuBxKXvIxrkTlxipxyQcOfLn2gmb7JeA3qN9QCYI4M8pvttaguviqDeRhSw21hY4QgAAEZiZwKzP7bOoYLpo5rz0mL6bqdMVYrJHxBFjyMZ7dkJilLvnAgR9Si4SFwDIELjjMNPpU6ue+fJksR+cSXyOnGVOlbiDaLKC4qv0TZ/FGIAABCEAAAvaS1Dk8BRbZCYipOl4xRqYTYMnHdIanUvAnaqUt+cCBP1VzXIfAOgRelPq5K9fJvneuPhtObUlNm9eJq3QWZwQCEIAABCBwPYGHpc7hQ/DITkBM1fGKMTKdAEs+pjM8lYIPcktb04oDf6rmuA6BdQj4+8k/vk72vXKNb6vRNPrS9yGJhRJXtX/ijEAAAhCAAARuIPC21EE87oYzfJlK4LGJqdgieQiw5CMPx65USl7ygQPfVWuch8D6BN6U+rvvXl+VTWkgnmr7xBeBAAQgAAEInEPg21In8Z5zzvJjCgGxVMcrtkg+Aiz5yMeymVLJSz5w4Ju1xW8IlEPgm1N/d005Km1CE/FU2ye+CAQgAAEILEzguYdNzPQpWd6XOorLS1ayEt3EUJ2umCJ5CbDkIy/PmFrJSz5w4GNN8R0C5RF4a+r3nlCealVqJI5q98QVgQAEIACBFQjUMPj09cXvX4HP1rIUQ9V5aeuIt8KZJR/5a7L0JR81tKH5a4UUIVAPgUelfu9jZnbzetQuUlPx87Xv4opAAAIQgMAKBGoZfL4ldcBXrcBoK1mKnepbLJF5CLDkIz/X0pd81NKG5q8ZUoRAPQRel/q/n6hH5SI1fV7iKJ4IBCAAAQisRKCWweeDUqchfe+6EquasxUzr2uxROYjwJKPfGxrWPJxdzPTB4EABMolcHHoA7+uXDWL1kzcfBwhnggEIAABCKxEwBvjlbIflO3PpM7jFYNiEVgExEx1LYbIvARY8pGPL0s+8rEkJQjsncCPpH7wd/cOYmT5xU3jCHFEIAABCEBgRQI1OfC3NbNrUwdy5YrMastarFTPYieGyPwEWPIxnTFLPqYzJAUIQOAsgRubmd61rv7w+WdP860HAfESN/ETRwQCEIAABFYkUJMDL0wPT52I9OY1aKcNx9dki5fYIcsQYMnHNM4s+ZjGj9gQgEA7gfuFMcT3tgfhbIOAOPlYUfwQCEAAAhBYmYA3yiurMSj72JncZ1DMfQUWG69fBirL1z1LPsYzZ8nHeHbEhAAEjhP49tA3PuJ40N1fFR8fR4gbAgEIQAACBRDwhrkAVQap8JOpU/nIYV337QfF3EdgMREb1a9YIcsTYMnHOOYs+RjHjVgQgEB/Aj+U+sc/N7Ov6R9tVyHFRXw0jhAvBAIQgAAECiFQqwMvfL+ROpbfLIRlSWqIiepWjJD1CLDkYxj7Gpd8PNfM9EEgAIG6CPxc6iffa2YX1qX67NqKh7hoHCFOCAQgAAEIFESgZgf+883sg6mDYXf1s0blU7fFRoyQdQmw5KMf/1qXfNTchvarGUJBYLsEfieNIV613SKOKpl4qG0THwQCEIAABAojUPvg815mdl3qaF5dGNs11BED1amYiA1SBgGWfByvh5qXfNTehh6vGa5CYNsE7mRmf5D6zRdsu6i9SycOatfERXwQCEAAAhAojMAWBp+PSp2NyrLnJ/H+5F0cxAQpiwBLPrrro+YlH1toQ7trhisQ2D6BuDP9K83s1tsvcmsJVe5fC+MpdpxvxcRJCEAAAusT2MrgUw6rP4mXM7Cnje1UVneAxADnff3/VZsGLPloo3LmppvaoVqXfGylDW2vHc5CYB8EHmBmH03O6/vN7JJ9FPuGUt7TzFRutWfiIB4IBCAAAQgUSmBLg09NGfc18dqBfQ+vmFMZfbd5lZ1p84X+0ZJaLPk4t362sORjS23oubXDLwjsi4Cmi78+ObGfMbPLdlJ8lVPlVVum8jNtficVTzEhAIF6CWxt8KmnnD5VWWXTrtZblbhjt8rMhnV11DRLPs7U01aWfGytDa3jX4SWEJiPwAuTM6v/9g/Ol00RKat83oap3AgEIAABCFRAwBvuClQdpKJvGqby6b3SWxN/V7bKx3ve66tdlnycGTRuYcnHVtvQ+v5VaAyBfASeHBzbXzCzG+VLuoiUVB6Vy9svlReBAAQgAIFKCFx0eMenPluU+PquV5jZXTdQSJVBZfFOV2VE6iTAko9tLPnw/2KdVojWEIBAF4FHmtmfpf727Wb20K6AlZ1XOVQetV0qn8qJQAACEIAABIoh8HAzuzY4vFcVo9lwRaS7Owsqk8qG1E2AJR9115+09/9k/SWhBBCAQJPA3czsHeF//vNm9kXNQJX8lt7S39sslUvlQyAAAQhAAALFEbhter2cd1raafXy4rTsVki6+u6wKoPWDqtMyHYIsOSj3rr0dqXeEqA5BCBwisBTD+vh/zo5v39pZvp9i1ORCrkuPaWv9FZ7pXLoNwIBCEAAAhAonsCDzOwt4e7ze8zssQVr/Tgzk47uIEh3lQHZJgGWfNRZr/7/rFN7tIYABPoS+BIz+6XQJ/+pmT3TzG7XN4GFw0kv6Sc9vZ2S/ioHAgEIQAACEKiKwOPN7H2hQ/uQmT2lkL0AtB+BdJFO3uFKV+mMbJ8ASz7qq2P/n9anORpDAAJjCDyk8babz5rZ8wt6de19zewFZia9vH3Sm2qkNwIBCEAAAhComoBew/a20MGpo3uNmV1x6Ixvs2DJlJfyVN7e2eoo3bb8GrwFEVeVFUs+qqquG/6zdWmNthCAwFQCX39YQ/7yRr+tG+56NduXTU18YHzlp3zjwwmNI6Sf9EQgAAEIQGBDBF5sZvrsWR5mZi9p3K1Wx/dGM3u6mT3QzG6SEZDSUppKW3lEp113zKWLdEL2TYAlH3XUv/9/69AWLSEAgdwELjaz55jZRxv9+QfSnjWXmdkdM2eq9JSu9sRRPt4O6Sg9pI/0QiAAAQhAYIMEvNHfYNEGF+lWaar66xudoRh9+rDr+zvN7GXJ8dbGcvdOO7jeOW0qd4GZ6aMnqDqn3V0VRmGfkeIqDaXl3P2oPDVNXjogEIgEWPIRaZT33f/D5WmGRhCAwNIENE1dD0Xi22+8jbjGzF6bprc/8bAnz4PN7B6Hm/Z3MbM7mNnnHsYXN05H/dZ5XVc4hde0eMVXOp6mH5Wf8v3GpQtMfhCAAAQgsDwBb/yXz7nsHG9pZpceOtKrw/tSnVWOo97BqrSVh/JCIHCKAEs+ThFa57q3B+vkTq4QgECpBO5pZj9weBL+qvA+eW8vph71/nalq/SVDwIBCEAAAjsi4J3Ijoo8qqhysi85bC736PQE/qVm9mYze3e6G/4JM/ur9NF33SHXNYVRWE2XV1ylgcM+qgqIlAiw5KMsU9DGk/ogEIAABI4R+FIz+yYz+57DzvU/bWa/nfa6+aCZfTzsFq9d4/Vb57UXjsIpvOIpvtJBIAABCEBgxwRw4Hdc+RS9agIs+ai6+lAeAhCAAAQgAAEIQAACwwngwA9nRgwIlEaAJR+l1Qj6QAACEIAABCAAAQhAYAYCOPAzQCVJCKxMgCUfK1cA2UMAAhCAAAQgAAEIQGAOAjjwc1AlTQhAAAIQgAAEIAABCEAAAhCAQGYCOPCZgZIcBCAAAQhAAAIQgAAEIAABCEBgDgI48HNQJU0IQGAvBPTuZX0QCEAAAhCAAAQgAAEIzE4AB352xGQAAQhsmABt6IYrl6JBAAIQgAAEIACB0ggw+CytRtAHAhCoiQBtaE21ha4QgAAEIAABCECgcgIMPiuvQNSHAARWJUAbuip+MocABCAAAQhAAAL7IsDgc1/1TWkhAIG8BGhD8/IkNQhAAAIQgAAEIACBIwQYfB6BwyUIQAACJwjQhp4AxGUIQAACEIAABCAAgXwEGHzmY0lKEIDA/gjQhu6vzikxBCAAAQhAAAIQWI0Ag8/V0JMxBCCwAQK0oRuoRIoAAQhAAAIQgAAEIAABCEAAAtsngAO//TqmhBCAAAQgAAEIQAACEIAABCCwAQI48BuoRIoAAQhAAAIQgAAEIAABCEAAAtsngAO//TqmhBCAAAQgAAEIQAACEIAABCCwAQI48BuoRIoAAQhAAAIQgAAEIAABCEAAAtsngAO//TqmhBCAAAQgAAEIQAACEIAABCCwAQI48BuoRIoAAQhAAAIQgAAEaiHwBjPTB4EABCAAgeEEcOCHMyMGBCAAAQhAAAIQgMBIAgw+R4IjGgQgAAEzow3FDCAAAQhAAAIQgAAEFiPA4HMx1GQEAQhskABt6AYrlSJBAAIQgAAEIACBUgkw+Cy1ZtALAhCAAAQgAAEIQAACEIAABCAQCLgD3/f4yRC3+fUdYTpp3/RiuGuaCYbfuhbDDv1+bJ3/0LSa4X816Bm/XjhRZ+Xz4phg+H5RhrSvDOnFr/fPkPaTYoLh+8MzpH0q3gzpAAAL70lEQVRFSC9+1flm3Qz9rbK3iVgNTasZ/u5tCZvZczOkLXtoE9lPU4+hv9vS1Tn9p4amFcNvsS3pYsV5CEAAAhCAAAQgAAEIZCEQB9R9vm9x0N2n3MfC4MCf78jhwJ/PBAf+XCZbbEuyNMokAgEIQAACEIAABCAAAQhAAAIQgAAEIAABCEAAAhCAAAQgAAEIQAACEIAABCAAAQhAAAIQgAAEIAABCEAAAhCAAAQgAAEIQAACEIAABCAAAQhAAAIQgAAEIAABCEAAAhCAAAQgAAEIQAACEIAABCAAAQhAAAIQgAAEIAABCEAAAhCAAAQgAAEIQAACEIAABCAAAQhAAAIQgAAEIAABCEAAAhCAAAQgAAEIQAACEIAABCAAAQhAAAIQgAAEIAABCEAAAhCAAAQgAAEIQAACEIAABCAAAQhAAAIQgAAEIAABCEAAAhCAAAQgAAEIQAACEIAABCAAAQhAAAIQgAAEIAABCEAAAhCAAAQgAAEIQAACEIAABCAAAQhAAAIQgAAEIAABCEAAAhCAAAQgAAEIQAACEIAABCAAAQhAAAIQgAAEIAABCEAAAhCAAAQgAAEIQKBiAg81s7858nmNmT3ZzD6v4jKiOgQgAAEIQAACEIAABCAAAQhAoHoCcs6POfB+7Voz+9bqS0sBIAABCEAAAhCAAAQgAAEIQAAClRKIDvx3mtl9w0e/9QTenXgddR1ZhsCHE/uXLpMduUAAAhCAAAQgAAEIQAACEIBAyQSiA9/lnP9UcOJ/v+TCbEw3v3GimygIBCAAAQhAAAIQgAAEIAABCOycQB8HXoj8abCcyi/eObOlio8DvxRp8oEABCAAAQhAAAIQgAAEIFABgb4OfHwK3/WkvoLiVqUiDnxV1YWyEIAABCAAAQhAAAIQgAAE5iXQ14HvCqfd6Z+V1srHp/RyPrXxndZvH3P4tc5eYX2a+Fc31t3rxoGLrum3wiptd3B1VN66dmx2QDMv1z3q3aavdurXec9PywjEo4+o7NIr5nFMV20U6Pl0HVX2NlHZVRfSz+P2qQOl5Ty9rlQ+Pyd9/bznq99i4mGUn+pFjHljgVPiCAEIQAACEIAABCAAAQhAICOBLse8mYWcM3cKozMX4/v1tmOXw+vxlb4c9OgQejquS9TBrzWPii+Hu01iXipDW16enhxpOaLRcfdrfow3F9rykzPtYbuOzZ39/SZDV3g/38xP6Rwrj+Id09fTFReF899+jPXXdt3D6RjDNvXkNwQgAAEIQAACEIAABCAAAQiMJOBOrRyv6JjH5OTIuoMmJzGKHE5/oqzvSsM/cmCjU9n2dNzzVxoeVt91Xo5i3DRPzrR+K105rJ6PHPboVCp+m3heno/KpJsCiq+0orOuMP4kW9+9bDrG+E0H3PP1vJSH0tXNCRfl52nrerzhINZeLmeusH5Ox5iW0tS5GDamp7CxXGLXJjG+fxdTlUP5ezljXroe61T5iqfiIBCAAAQgAAEIQAACEIAABCCQmUB0NOWcNaX5FLrLAWzG899y/NwhbHPsYv4KJ6dwrEQnvq0szbzkjDel+ZRfzqsYRIlOrJzjpsip9TK3XVd4pakbDQqnPNrE05BOx8TT0bGpq8eLTnxbGM9LR92gaN4k8HQiw7Z0PBxHCEAAAhCAAAQgAAEIQAACEMhMIDpk/pRZDqo++u3OoTuaY5w2dw7bnP+Yf5ez27fI0bGOT6E9fsyrzXlXOMVzfducd0/LucjZbYrK6WnEJ9TNcFGftnCexjEHPurrT8mb+eh3ZNMWzvPSsct5VzpR5zG20KYb5yAAAQhAAAIQgAAEIAABCECgB4HokEUnrvldTuRYh83TanNEY/5yMqdIdFKVblP65CXn1fVtS8PTVFk8nJ/zoxx/Xet6su7hor5tZff027h5GvFmwan68fTayuXXjuWlPOOMCpWvTW/XjSMEIAABCEAAAhCAAAQgAAEIZCQQnVp34vyop8x6Kt72NLupghw5TWGPjq2n48c25zDm39cZlBMpvdxR9vTjsc1J7ZuXp9OWhpc7ltPP+dHjDzm2ld3jt3HzvKIeHv7Usa1cHudYXp5nXKqgeKoH1cmpGwgenyMEIAABCEAAAhCAAAQgAAEIjCDQ16ntSlpOW18nss05HJK/no771HV3OLuObU5q37w8zbY0nEMss5/zo8fve+xac+7x27h5XlEPD3/qeGwK/bG8PE8dlUazLlSOY8xifL5DAAIQgAAEIAABCEAAAhCAwEACfZ3armTj5mhdT+vdoWxzDvvmrxsF0WHU1PHmWm09xfa82hzJvnkdS8M5RMfZz/nR47eV18P0OfZJ55geffLwMH3y8rDxqNkZzSfy+o1AAAIQgAAEIAABCEAAAhCAQGYCfZ3atmzjbuvHnNVjzmHf/PXE19Npc86lXykOvE/tb9vgro1j1zkv7zG2cQ1884ZGV7pt5/vk1RbPz8kWvNxKq21TPg/LEQIQgAAEIAABCEAAAhCAAARGEOjrQLclfcph9jjHnMO++fcJd0qfPmlIZ9dX4bvk2JPv+ERaOo0V1+OYA9/nxkaf/PvkdSqduCP+lHKfyofrEIAABCAAAQhAAAIQgAAEdkmgr1PbBic6zF3TpqMz2+aI9s0/hmtbw60p9vEJcJvzHdM45mC6M9uWhnM45sBHLtLp2OZuutb1tNrLc+xJvuLrunTW8dRT+K7rXua2OvIy6yidul7B15dvTI/vEIAABCAAAQhAAAIQgAAEINCTwFSnK65Ll2Pnzqqc2OjkykFscw775h+n68tRjTvjt22o1uZ8983Lndm2NBxrLJufi8e4N4D01VR3MfGPWCmMrrVxUVrx5ofCKq6vOY95KS3XWUfFUzjPS3x0zusqxvXvHr9Ll7ZwStfziFP5lQ8CAQhAAAIQgAAEIAABCEAAApkJ9HVqu7KN06bdCYxHPbH1J8ltzuGQ/KOTGPPw79HhbXO+++bl6bWl4RxOOfC6kRGdeE+z7ahwbaKn5W3hda4psWxdcXReNwzaxOO01VEMf6oOlH7XU/6YDt8hAAEIQAACEIAABCAAAQhAYCCB+PR2rOOleHKe5bxFR9Cnursj2+aoev6K2zWVPBZJNww8PXdI9VtPgiWug9JtSt+8jqXhaboOCntMpFd8+h356Lwz6kpD8T0vxdXTbTnRbSJ+uuY3TDwv/VYaKr/PkGjG9zJ3pR3Du04eR/koD91E6Eo/xuc7BCAAAQhAAAIQgAAEIAABCEAAAhCAAAQgAAEIQAACEIAABCAAAQhAAAIQgAAEIAABCEAAAhCAAAQgAAEIQAACEIAABCAAAQhAAAIQgAAEIAABCEAAAhCAAAQgAAEIQAACEIAABCAAAQhAAAIQgAAEIAABCEAAAhCAAAQgAAEIQAACEIAABCAAAQhAAAIQgAAEIAABCEAAAhCAAAQgAAEIQAACEIAABCAAAQhAAAIQgAAEIAABCEAAAhCAAAQgAAEIQAACEIAABCAAAQhAAAIQgAAEIAABCEAAAhCAAAQgAAEIQAACEIAABCAAAQhAAAIQgAAEIAABCEAAAhCAAAQgAAEIQAACEIAABCAAAQhAAAIQgAAEIAABCEAAAhCAAAQgAAEIQAACEIAABCAAAQhAAAIQgAAEIAABCEAAAhCAAAQgAAEIQAACEIAABCAAAQhAAAIQgAAEIAABCEAAAhCAAAQgAAEIQAACEIAABCAAAQhAAAIQgAAEIAABCEAAAhCAAAQgAAEIQAACEIAABCAAAQhAAAIQgAAEIAABCEAAAhCAAAQgAAEIQAACEIAABCAAAQhAAAIQgAAEIAABCEAAAhCAAAQgAAEIQAACEIAABCAAAQhAAAIQgAAEIAABCEAAAhCAAAQgAAEIQAACEIAABCAAAQhAAAIQgAAEIAABCEAAAhCAAAQgAAEIQAACEIAABCAAAQhAAAIQgAAEIAABCEAAAhCAAAQgAAEIQAACEIAABCAAAQhAAAIQgAAEIAABCEAAAhCAAAQgAAEIQAACEIAABCAAAQhAAAIQgAAEIAABCEAAAhCAAAQgAAEIQAACEIAABCAAAQhAAAIQ6E/g/wOrheUXWKC1HQAAAABJRU5ErkJggg==)"
      ],
      "metadata": {
        "id": "B9fztmpUHd0X"
      }
    },
    {
      "cell_type": "code",
      "source": [
        "import torch\n",
        "\n",
        "x = torch.ones(5) # input tensor\n",
        "y = torch.zeros(3) # expected output\n",
        "w = torch.randn(5, 3, requires_grad=True)\n",
        "b = torch.randn(3, requires_grad= True)\n",
        "z = torch.matmul(x, w)+b\n",
        "loss = torch.nn.functional.binary_cross_entropy_with_logits(z,y)\n",
        "print(f\"Gradient function for z = {z.grad_fn}\")\n",
        "print(f\"Gradient function for loss = {loss.grad_fn}\")\n",
        "loss.backward()\n",
        "print(w.grad)\n",
        "print(b.grad)"
      ],
      "metadata": {
        "colab": {
          "base_uri": "https://localhost:8080/"
        },
        "id": "iSVHxIhu_RTh",
        "outputId": "523b0c13-9334-4b92-e8d7-041e4db0da33"
      },
      "execution_count": 5,
      "outputs": [
        {
          "output_type": "stream",
          "name": "stdout",
          "text": [
            "Gradient function for z = <AddBackward0 object at 0x7b660b084970>\n",
            "Gradient function for loss = <BinaryCrossEntropyWithLogitsBackward0 object at 0x7b660bb374c0>\n",
            "tensor([[0.3133, 0.0439, 0.0355],\n",
            "        [0.3133, 0.0439, 0.0355],\n",
            "        [0.3133, 0.0439, 0.0355],\n",
            "        [0.3133, 0.0439, 0.0355],\n",
            "        [0.3133, 0.0439, 0.0355]])\n",
            "tensor([0.3133, 0.0439, 0.0355])\n"
          ]
        }
      ]
    },
    {
      "cell_type": "markdown",
      "source": [
        "Computing Gradients\n",
        "To optimize weights of parameters in the neural network, we need to compute the derivatives of our loss function with respect to parameters, namely, we need\n",
        "∂\n",
        "l\n",
        "o\n",
        "s\n",
        "s\n",
        "∂\n",
        "w\n",
        "∂w\n",
        "∂loss\n",
        "​\n",
        "  and\n",
        "∂\n",
        "l\n",
        "o\n",
        "s\n",
        "s\n",
        "∂\n",
        "b\n",
        "∂b\n",
        "∂loss\n",
        "​\n",
        "  under some fixed values of x and y. To compute those derivatives, we call loss.backward(), and then retrieve the values from w.grad and b.grad:"
      ],
      "metadata": {
        "id": "HpLDSm5ZDfHD"
      }
    },
    {
      "cell_type": "markdown",
      "source": [
        "## Note\n",
        "\n",
        "* We can only obtain the grad properties for the leaf nodes of the computational\n",
        "graph, which have requires_grad property set to True. For all other nodes in our graph, gradients will not be available.\n",
        "\n",
        "* We can only perform gradient calculations using backward once on a given graph, for performance reasons. If we need to do several backward calls on the same graph, we need to pass retain_graph=True to the backward call."
      ],
      "metadata": {
        "id": "iD-R32mK8-d3"
      }
    },
    {
      "cell_type": "markdown",
      "source": [
        "# Disabling Gradient Tracking\n",
        "By default, all tensors with requires_grad=True are tracking their computational history and support gradient computation. However, there are some cases when we do not need to do that, for example, when we have trained the model and just want to apply it to some input data, i.e. we only want to do forward computations through the network. We can stop tracking computations by surrounding our computation code with torch.no_grad() block:"
      ],
      "metadata": {
        "id": "-JEAvKui9Qjt"
      }
    },
    {
      "cell_type": "code",
      "source": [
        "z = torch.matmul(x,w)+b\n",
        "print(z.requires_grad)\n",
        "\n",
        "with torch.no_grad():\n",
        "    z = torch.matmul(x,w)+b\n",
        "\n",
        "print(z.requires_grad)"
      ],
      "metadata": {
        "colab": {
          "base_uri": "https://localhost:8080/"
        },
        "id": "fry1RZqUCbg1",
        "outputId": "24101a91-eca3-4e9f-bc46-de64f6e9f905"
      },
      "execution_count": 3,
      "outputs": [
        {
          "output_type": "stream",
          "name": "stdout",
          "text": [
            "True\n",
            "False\n"
          ]
        }
      ]
    },
    {
      "cell_type": "code",
      "source": [
        "# Another way to achieve the same result is to use the detach() method on the tensor:"
      ],
      "metadata": {
        "id": "XbQLV6GX944A"
      },
      "execution_count": 1,
      "outputs": []
    },
    {
      "cell_type": "code",
      "source": [
        "z = torch.matmul(x, w)+b\n",
        "z_det = z.detach()\n",
        "print(z_det.requires_grad)"
      ],
      "metadata": {
        "colab": {
          "base_uri": "https://localhost:8080/"
        },
        "id": "YxkTfz_jEtr3",
        "outputId": "84d46329-c678-4912-f282-c62579d89b0c"
      },
      "execution_count": 6,
      "outputs": [
        {
          "output_type": "stream",
          "name": "stdout",
          "text": [
            "False\n"
          ]
        }
      ]
    },
    {
      "cell_type": "markdown",
      "source": [
        "# There are reasons you might want to disable gradient tracking:\n",
        "* To mark some parameters in your neural network as frozen parameters.\n",
        "\n",
        "* To speed up computations when you are only doing forward pass, because computations on tensors that do not track gradients would be more efficient."
      ],
      "metadata": {
        "id": "XGYpHcl4FBFD"
      }
    },
    {
      "cell_type": "markdown",
      "source": [
        "# Optimizing Model Parameters\n",
        "Now that we have a model and data it’s time to train, validate and test our model by optimizing its parameters on our data. Training a model is an iterative process; in each iteration the model makes a guess about the output, calculates the error in its guess (loss), collects the derivatives of the error with respect to its parameters (as we saw in the previous section), and optimizes these parameters using gradient descent. For a more detailed walkthrough of this process, check out this video on backpropagation from 3Blue1Brown."
      ],
      "metadata": {
        "id": "P-NAuuTeF-WJ"
      }
    },
    {
      "cell_type": "code",
      "source": [
        "import torch\n",
        "from torch import nn\n",
        "from torch.utils.data import DataLoader\n",
        "from torchvision import datasets\n",
        "from torchvision.transforms import ToTensor\n",
        "\n",
        "training_data = datasets.FashionMNIST(\n",
        "    root=\"data\",\n",
        "    train=True,\n",
        "    download=True,\n",
        "    transform=ToTensor()\n",
        ")\n",
        "\n",
        "test_data = datasets.FashionMNIST(\n",
        "    root=\"data\",\n",
        "    train=False,\n",
        "    download=True,\n",
        "    transform=ToTensor()\n",
        ")\n",
        "\n",
        "train_dataloader = DataLoader(training_data, batch_size=64)\n",
        "test_dataloader = DataLoader(test_data, batch_size=64)\n",
        "\n",
        "class NeuralNetwork(nn.Module):\n",
        "    def __init__(self):\n",
        "        super().__init__()\n",
        "        self.flatten = nn.Flatten()\n",
        "        self.linear_relu_stack = nn.Sequential(\n",
        "            nn.Linear(28*28, 512),\n",
        "            nn.ReLU(),\n",
        "            nn.Linear(512, 512),\n",
        "            nn.ReLU(),\n",
        "            nn.Linear(512, 10),\n",
        "        )\n",
        "\n",
        "    def forward(self, x):\n",
        "        x = self.flatten(x)\n",
        "        logits = self.linear_relu_stack(x)\n",
        "        return logits\n",
        "\n",
        "model = NeuralNetwork()"
      ],
      "metadata": {
        "colab": {
          "base_uri": "https://localhost:8080/"
        },
        "id": "-xb-mEdwEwYv",
        "outputId": "dcd1a0ee-42f2-430b-bd75-f85ca5c6f191"
      },
      "execution_count": 7,
      "outputs": [
        {
          "output_type": "stream",
          "name": "stdout",
          "text": [
            "Downloading http://fashion-mnist.s3-website.eu-central-1.amazonaws.com/train-images-idx3-ubyte.gz\n",
            "Downloading http://fashion-mnist.s3-website.eu-central-1.amazonaws.com/train-images-idx3-ubyte.gz to data/FashionMNIST/raw/train-images-idx3-ubyte.gz\n"
          ]
        },
        {
          "output_type": "stream",
          "name": "stderr",
          "text": [
            "100%|██████████| 26.4M/26.4M [00:01<00:00, 15.6MB/s]\n"
          ]
        },
        {
          "output_type": "stream",
          "name": "stdout",
          "text": [
            "Extracting data/FashionMNIST/raw/train-images-idx3-ubyte.gz to data/FashionMNIST/raw\n",
            "\n",
            "Downloading http://fashion-mnist.s3-website.eu-central-1.amazonaws.com/train-labels-idx1-ubyte.gz\n",
            "Downloading http://fashion-mnist.s3-website.eu-central-1.amazonaws.com/train-labels-idx1-ubyte.gz to data/FashionMNIST/raw/train-labels-idx1-ubyte.gz\n"
          ]
        },
        {
          "output_type": "stream",
          "name": "stderr",
          "text": [
            "100%|██████████| 29.5k/29.5k [00:00<00:00, 269kB/s]\n"
          ]
        },
        {
          "output_type": "stream",
          "name": "stdout",
          "text": [
            "Extracting data/FashionMNIST/raw/train-labels-idx1-ubyte.gz to data/FashionMNIST/raw\n",
            "\n",
            "Downloading http://fashion-mnist.s3-website.eu-central-1.amazonaws.com/t10k-images-idx3-ubyte.gz\n",
            "Downloading http://fashion-mnist.s3-website.eu-central-1.amazonaws.com/t10k-images-idx3-ubyte.gz to data/FashionMNIST/raw/t10k-images-idx3-ubyte.gz\n"
          ]
        },
        {
          "output_type": "stream",
          "name": "stderr",
          "text": [
            "100%|██████████| 4.42M/4.42M [00:00<00:00, 4.47MB/s]\n"
          ]
        },
        {
          "output_type": "stream",
          "name": "stdout",
          "text": [
            "Extracting data/FashionMNIST/raw/t10k-images-idx3-ubyte.gz to data/FashionMNIST/raw\n",
            "\n",
            "Downloading http://fashion-mnist.s3-website.eu-central-1.amazonaws.com/t10k-labels-idx1-ubyte.gz\n",
            "Downloading http://fashion-mnist.s3-website.eu-central-1.amazonaws.com/t10k-labels-idx1-ubyte.gz to data/FashionMNIST/raw/t10k-labels-idx1-ubyte.gz\n"
          ]
        },
        {
          "output_type": "stream",
          "name": "stderr",
          "text": [
            "100%|██████████| 5.15k/5.15k [00:00<00:00, 15.1MB/s]"
          ]
        },
        {
          "output_type": "stream",
          "name": "stdout",
          "text": [
            "Extracting data/FashionMNIST/raw/t10k-labels-idx1-ubyte.gz to data/FashionMNIST/raw\n",
            "\n"
          ]
        },
        {
          "output_type": "stream",
          "name": "stderr",
          "text": [
            "\n"
          ]
        }
      ]
    },
    {
      "cell_type": "markdown",
      "source": [
        "# Hyperparameters\n",
        "Hyperparameters are adjustable parameters that let you control the model optimization process. Different hyperparameter values can impact model training and convergence rates (read more about hyperparameter tuning)\n",
        "\n",
        "We define the following hyperparameters for training:\n",
        "Number of Epochs - the number times to iterate over the dataset\n",
        "\n",
        "* Batch Size - the number of data samples propagated through the network before the parameters are updated\n",
        "\n",
        "* Learning Rate - how much to update models parameters at each batch/epoch. Smaller values yield slow learning speed, while large values may result in unpredictable behavior during training."
      ],
      "metadata": {
        "id": "lA7WkbrHMCJj"
      }
    },
    {
      "cell_type": "code",
      "source": [
        "learning_rate = 1e-3\n",
        "batch_size = 64\n",
        "epochs = 5"
      ],
      "metadata": {
        "id": "HGFQ_UK3L585"
      },
      "execution_count": 8,
      "outputs": []
    },
    {
      "cell_type": "markdown",
      "source": [
        "# Optimization Loop\n",
        "Once we set our hyperparameters, we can then train and optimize our model with an optimization loop. Each iteration of the optimization loop is called an epoch.\n",
        "\n",
        "Each epoch consists of two main parts:\n",
        "* The Train Loop - iterate over the training dataset and try to converge to optimal parameters.\n",
        "\n",
        "* The Validation/Test Loop - iterate over the test dataset to check if model performance is improving.\n",
        "\n",
        "Let’s briefly familiarize ourselves with some of the concepts used in the training loop. Jump ahead to see the Full Implementation of the optimization loop."
      ],
      "metadata": {
        "id": "a4SZOnvmMQD9"
      }
    },
    {
      "cell_type": "markdown",
      "source": [
        "# Loss Function\n",
        "When presented with some training data, our untrained network is likely not to give the correct answer. Loss function measures the degree of dissimilarity of obtained result to the target value, and it is the loss function that we want to minimize during training. To calculate the loss we make a prediction using the inputs of our given data sample and compare it against the true data label value.\n",
        "\n",
        "Common loss functions include nn.MSELoss (Mean Square Error) for regression tasks, and nn.NLLLoss (Negative Log Likelihood) for classification. nn.CrossEntropyLoss combines nn.LogSoftmax and nn.NLLLoss.\n",
        "\n",
        "We pass our model’s output logits to nn.CrossEntropyLoss, which will normalize the logits and compute the prediction error."
      ],
      "metadata": {
        "id": "wd3_ZAl7Mdll"
      }
    },
    {
      "cell_type": "code",
      "source": [
        "Loss = nn.CrossEntropyLoss()"
      ],
      "metadata": {
        "id": "2ALHbEhyMJzX"
      },
      "execution_count": 10,
      "outputs": []
    },
    {
      "cell_type": "markdown",
      "source": [
        "# Optimizer\n",
        "Optimization is the process of adjusting model parameters to reduce model error in each training step. Optimization algorithms define how this process is performed (in this example we use Stochastic Gradient Descent). All optimization logic is encapsulated in the optimizer object. Here, we use the SGD optimizer; additionally, there are many different optimizers available in PyTorch such as ADAM and RMSProp, that work better for different kinds of models and data.\n",
        "\n",
        "We initialize the optimizer by registering the model’s parameters that need to be trained, and passing in the learning rate hyperparameter."
      ],
      "metadata": {
        "id": "WhwwfAhrMwr-"
      }
    },
    {
      "cell_type": "code",
      "source": [
        "optimizer = torch.optim.SGD(model.parameters(), lr = learning_rate)"
      ],
      "metadata": {
        "id": "GTbhtnOJMmTT"
      },
      "execution_count": 12,
      "outputs": []
    },
    {
      "cell_type": "markdown",
      "source": [
        "Inside the training loop, optimization happens in three steps:\n",
        "* Call optimizer.zero_grad() to reset the gradients of model parameters. Gradients by default add up; to prevent double-counting, we explicitly zero them at each iteration.\n",
        "\n",
        "* Backpropagate the prediction loss with a call to loss.backward(). PyTorch deposits the gradients of the loss w.r.t. each parameter.\n",
        "\n",
        "* Once we have our gradients, we call optimizer.step() to adjust the parameters by the gradients collected in the backward pass."
      ],
      "metadata": {
        "id": "drWZ7QVONK2v"
      }
    },
    {
      "cell_type": "markdown",
      "source": [
        "# Full Implementation\n",
        "We define train_loop that loops over our optimization code, and test_loop that evaluates the model’s performance against our test data."
      ],
      "metadata": {
        "id": "7g12B1B-Nmut"
      }
    },
    {
      "cell_type": "code",
      "source": [
        "def train_loop(dataloader,model, loss_fn, optimizer):\n",
        "  size = len(dataloader)\n",
        "  # Set the model to training mode - important for batch normalization and dropout layers\n",
        "  # Unnecessary in this situation but added for best practices\n",
        "  model.train()\n",
        "\n",
        "  for batch, (X,y) in enumerate(dataloader):\n",
        "    pred = model(X)\n",
        "    loss = loss_fn(pred, y)\n",
        "\n",
        "    # backpropagation\n",
        "    optimizer.zero_grad()   # to reset the gradients of model parameters. Gradients by default add up; to prevent double-counting, we explicitly zero them at each iteration.\n",
        "    loss.backward()\n",
        "    optimizer.step()\n",
        "\n",
        "    if batch % 100 == 0:\n",
        "        loss, current = loss.item(), batch * batch_size + len(X)\n",
        "        print(f\"loss: {loss:>7f}  [{current:>5d}/{size:>5d}]\")\n",
        "\n",
        "\n",
        "def test_loop(dataloader,model, loss_fn ):\n",
        "    # Set the model to evaluation mode - important for batch normalization and dropout layers\n",
        "    # Unnecessary in this situation but added for best practices\n",
        "    model.eval()\n",
        "    size = len(dataloader.dataset)\n",
        "    num_batches = len(dataloader)\n",
        "    test_loss, correct = 0,0\n",
        "\n",
        "    # Evaluating the model with torch.no_grad() ensures that no gradients are computed during test mode\n",
        "    # also serves to reduce unnecessary gradient computations and memory usage for tensors with requires_grad=True\n",
        "    with torch.no_grad():\n",
        "      for batch, (X,y) in enumerate(dataloader):\n",
        "        pred = model(X)\n",
        "        test_loss += loss_fn(pred, y).item()\n",
        "        correct += (pred.argmax(1)==y).type(torch.float).sum().item()\n",
        "    test_loss /= num_batches\n",
        "    correct /= size\n",
        "    print(f\"Test Error: \\n Accuracy: {(100*correct):>0.1f}%, Avg loss: {test_loss:>8f} \\n\")"
      ],
      "metadata": {
        "id": "70j_FjL4NBc3"
      },
      "execution_count": 18,
      "outputs": []
    },
    {
      "cell_type": "code",
      "source": [
        "loss_fn = nn.CrossEntropyLoss()\n",
        "optimizer = torch.optim.SGD(model.parameters(), lr=learning_rate)\n",
        "\n",
        "epochs = 10\n",
        "for t in range(epochs):\n",
        "    print(f\"Epoch {t+1}\\n-------------------------------\")\n",
        "    train_loop(train_dataloader, model, loss_fn, optimizer)\n",
        "    test_loop(test_dataloader, model, loss_fn)\n",
        "print(\"Done!\")"
      ],
      "metadata": {
        "colab": {
          "base_uri": "https://localhost:8080/"
        },
        "id": "Uxy14dGmQ9LO",
        "outputId": "a886f5d8-dc80-45bf-fe26-e641578c8f89"
      },
      "execution_count": 19,
      "outputs": [
        {
          "output_type": "stream",
          "name": "stdout",
          "text": [
            "Epoch 1\n",
            "-------------------------------\n",
            "loss: 2.183245  [   64/  938]\n",
            "loss: 2.180631  [ 6464/  938]\n",
            "loss: 2.132519  [12864/  938]\n",
            "loss: 2.142528  [19264/  938]\n",
            "loss: 2.094766  [25664/  938]\n",
            "loss: 2.044245  [32064/  938]\n",
            "loss: 2.064214  [38464/  938]\n",
            "loss: 1.994965  [44864/  938]\n",
            "loss: 1.994047  [51264/  938]\n",
            "loss: 1.935557  [57664/  938]\n",
            "Test Error: \n",
            " Accuracy: 56.0%, Avg loss: 1.933292 \n",
            "\n",
            "Epoch 2\n",
            "-------------------------------\n",
            "loss: 1.954606  [   64/  938]\n",
            "loss: 1.937553  [ 6464/  938]\n",
            "loss: 1.829551  [12864/  938]\n",
            "loss: 1.866993  [19264/  938]\n",
            "loss: 1.772622  [25664/  938]\n",
            "loss: 1.711021  [32064/  938]\n",
            "loss: 1.732251  [38464/  938]\n",
            "loss: 1.633102  [44864/  938]\n",
            "loss: 1.655603  [51264/  938]\n",
            "loss: 1.558139  [57664/  938]\n",
            "Test Error: \n",
            " Accuracy: 60.6%, Avg loss: 1.572818 \n",
            "\n",
            "Epoch 3\n",
            "-------------------------------\n",
            "loss: 1.626439  [   64/  938]\n",
            "loss: 1.599278  [ 6464/  938]\n",
            "loss: 1.449960  [12864/  938]\n",
            "loss: 1.522315  [19264/  938]\n",
            "loss: 1.414826  [25664/  938]\n",
            "loss: 1.393823  [32064/  938]\n",
            "loss: 1.408415  [38464/  938]\n",
            "loss: 1.330041  [44864/  938]\n",
            "loss: 1.369130  [51264/  938]\n",
            "loss: 1.267136  [57664/  938]\n",
            "Test Error: \n",
            " Accuracy: 62.6%, Avg loss: 1.294789 \n",
            "\n",
            "Epoch 4\n",
            "-------------------------------\n",
            "loss: 1.364714  [   64/  938]\n",
            "loss: 1.349954  [ 6464/  938]\n",
            "loss: 1.184569  [12864/  938]\n",
            "loss: 1.286895  [19264/  938]\n",
            "loss: 1.172610  [25664/  938]\n",
            "loss: 1.190200  [32064/  938]\n",
            "loss: 1.204126  [38464/  938]\n",
            "loss: 1.141025  [44864/  938]\n",
            "loss: 1.184820  [51264/  938]\n",
            "loss: 1.096057  [57664/  938]\n",
            "Test Error: \n",
            " Accuracy: 64.1%, Avg loss: 1.120226 \n",
            "\n",
            "Epoch 5\n",
            "-------------------------------\n",
            "loss: 1.186729  [   64/  938]\n",
            "loss: 1.190472  [ 6464/  938]\n",
            "loss: 1.009909  [12864/  938]\n",
            "loss: 1.138735  [19264/  938]\n",
            "loss: 1.020166  [25664/  938]\n",
            "loss: 1.052100  [32064/  938]\n",
            "loss: 1.075651  [38464/  938]\n",
            "loss: 1.018305  [44864/  938]\n",
            "loss: 1.063241  [51264/  938]\n",
            "loss: 0.987102  [57664/  938]\n",
            "Test Error: \n",
            " Accuracy: 65.3%, Avg loss: 1.006107 \n",
            "\n",
            "Epoch 6\n",
            "-------------------------------\n",
            "loss: 1.061208  [   64/  938]\n",
            "loss: 1.085035  [ 6464/  938]\n",
            "loss: 0.889143  [12864/  938]\n",
            "loss: 1.039498  [19264/  938]\n",
            "loss: 0.922758  [25664/  938]\n",
            "loss: 0.953276  [32064/  938]\n",
            "loss: 0.990062  [38464/  938]\n",
            "loss: 0.936531  [44864/  938]\n",
            "loss: 0.978202  [51264/  938]\n",
            "loss: 0.913174  [57664/  938]\n",
            "Test Error: \n",
            " Accuracy: 66.5%, Avg loss: 0.927554 \n",
            "\n",
            "Epoch 7\n",
            "-------------------------------\n",
            "loss: 0.967982  [   64/  938]\n",
            "loss: 1.010873  [ 6464/  938]\n",
            "loss: 0.802145  [12864/  938]\n",
            "loss: 0.969434  [19264/  938]\n",
            "loss: 0.857707  [25664/  938]\n",
            "loss: 0.880119  [32064/  938]\n",
            "loss: 0.929780  [38464/  938]\n",
            "loss: 0.881046  [44864/  938]\n",
            "loss: 0.916654  [51264/  938]\n",
            "loss: 0.859959  [57664/  938]\n",
            "Test Error: \n",
            " Accuracy: 67.9%, Avg loss: 0.870944 \n",
            "\n",
            "Epoch 8\n",
            "-------------------------------\n",
            "loss: 0.896523  [   64/  938]\n",
            "loss: 0.955642  [ 6464/  938]\n",
            "loss: 0.737351  [12864/  938]\n",
            "loss: 0.917842  [19264/  938]\n",
            "loss: 0.811829  [25664/  938]\n",
            "loss: 0.824775  [32064/  938]\n",
            "loss: 0.884958  [38464/  938]\n",
            "loss: 0.842516  [44864/  938]\n",
            "loss: 0.870729  [51264/  938]\n",
            "loss: 0.819656  [57664/  938]\n",
            "Test Error: \n",
            " Accuracy: 69.2%, Avg loss: 0.828429 \n",
            "\n",
            "Epoch 9\n",
            "-------------------------------\n",
            "loss: 0.840093  [   64/  938]\n",
            "loss: 0.912178  [ 6464/  938]\n",
            "loss: 0.687171  [12864/  938]\n",
            "loss: 0.878577  [19264/  938]\n",
            "loss: 0.777676  [25664/  938]\n",
            "loss: 0.781980  [32064/  938]\n",
            "loss: 0.849698  [38464/  938]\n",
            "loss: 0.814502  [44864/  938]\n",
            "loss: 0.835314  [51264/  938]\n",
            "loss: 0.787700  [57664/  938]\n",
            "Test Error: \n",
            " Accuracy: 70.5%, Avg loss: 0.795144 \n",
            "\n",
            "Epoch 10\n",
            "-------------------------------\n",
            "loss: 0.794108  [   64/  938]\n",
            "loss: 0.876155  [ 6464/  938]\n",
            "loss: 0.647050  [12864/  938]\n",
            "loss: 0.847850  [19264/  938]\n",
            "loss: 0.750966  [25664/  938]\n",
            "loss: 0.748344  [32064/  938]\n",
            "loss: 0.820533  [38464/  938]\n",
            "loss: 0.793042  [44864/  938]\n",
            "loss: 0.806931  [51264/  938]\n",
            "loss: 0.761424  [57664/  938]\n",
            "Test Error: \n",
            " Accuracy: 71.7%, Avg loss: 0.768029 \n",
            "\n",
            "Done!\n"
          ]
        }
      ]
    },
    {
      "cell_type": "markdown",
      "source": [
        "# Save and Load the Model\n",
        "In this section we will look at how to persist model state with saving, loading and running model predictions."
      ],
      "metadata": {
        "id": "DGNsmG8bVBfu"
      }
    },
    {
      "cell_type": "code",
      "source": [
        "import torch\n",
        "import torchvision.models as models\n"
      ],
      "metadata": {
        "id": "RUs24EPxRMFA"
      },
      "execution_count": 20,
      "outputs": []
    },
    {
      "cell_type": "code",
      "source": [
        "model = models.vgg16(weights='IMAGENET1K_V1')\n",
        "torch.save(model.state_dict(), 'model_weights.pth')"
      ],
      "metadata": {
        "id": "6p2kpfj-VITJ"
      },
      "execution_count": null,
      "outputs": []
    },
    {
      "cell_type": "markdown",
      "source": [
        "To load model weights, you need to create an instance of the same model first, and then load the parameters using load_state_dict() method.\n",
        "\n",
        "In the code below, we set weights_only=True to limit the functions executed during unpickling to only those necessary for loading weights. Using weights_only=True is considered a best practice when loading weights."
      ],
      "metadata": {
        "id": "wem1MU_sVdHA"
      }
    },
    {
      "cell_type": "code",
      "source": [
        "model = models.vgg16() # we do not specify ``weights``, i.e. create untrained model\n",
        "model.load_state_dict(torch.load('model_weights.pth', weights_only=True))\n",
        "model.eval()"
      ],
      "metadata": {
        "id": "WLmFnpIIVdzx"
      },
      "execution_count": null,
      "outputs": []
    },
    {
      "cell_type": "markdown",
      "source": [
        "# Saving and Loading Models with Shapes\n",
        "When loading model weights, we needed to instantiate the model class first, because the class defines the structure of a network. We might want to save the structure of this class together with the model, in which case we can pass model (and not model.state_dict()) to the saving function:"
      ],
      "metadata": {
        "id": "N2d4TWS9VsfQ"
      }
    },
    {
      "cell_type": "code",
      "source": [
        "torch.save(model, 'model.pth')"
      ],
      "metadata": {
        "id": "RCqd6hwzVtjV"
      },
      "execution_count": null,
      "outputs": []
    },
    {
      "cell_type": "markdown",
      "source": [
        "We can then load the model as demonstrated below.\n",
        "\n",
        "As described in Saving and loading torch.nn.Modules, saving state_dict is considered the best practice. However, below we use weights_only=False because this involves loading the model, which is a legacy use case for torch.save."
      ],
      "metadata": {
        "id": "yVl8lf8BV3G9"
      }
    },
    {
      "cell_type": "code",
      "source": [
        "model = torch.load('model.pth', weights_only=False)"
      ],
      "metadata": {
        "id": "44UK4LRlV3x5"
      },
      "execution_count": 20,
      "outputs": []
    }
  ]
}